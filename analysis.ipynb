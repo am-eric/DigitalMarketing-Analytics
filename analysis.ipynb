{
 "cells": [
  {
   "cell_type": "markdown",
   "metadata": {},
   "source": [
    "# Digital Marketing Analysis and Conversion Prediction"
   ]
  },
  {
   "cell_type": "markdown",
   "metadata": {},
   "source": [
    "![Digital Marketing image](intro.jpg \"Digital Marketing\")"
   ]
  },
  {
   "cell_type": "markdown",
   "metadata": {},
   "source": [
    "## Introduction\n",
    "This analysis aims to offer marketing guidance and insights to a company based on demographics, customer engagement with marketing materials, and historical purchasing behavior.\n",
    "In the competitive landscape of e-commerce, achieving high conversion rates is crucial for driving sales and maximizing revenue.\n"
   ]
  },
  {
   "cell_type": "markdown",
   "metadata": {},
   "source": [
    "## Business Problem\n",
    "\n",
    "An e-commerce company is looking to enhance the effectiveness of its digital marketing campaigns. Despite having a significant reach and engagement, the company is not achieving its desired conversion rates, which impacts overall sales and revenue. The company wants to understand the factors that influence customer conversions, such as demographics, customer engagement with marketing materials, and historical purchasing behavior.\n",
    "\n",
    "**Objectives**:\n",
    "\n",
    "- **Main objective**: Develop a predictive model using the dataset to identify which customers are most likely to convert (make a purchase) after interacting with digital marketing campaigns.\n",
    "\n",
    "- Optimize Marketing Spend: Allocate budget more effectively by targeting customers who are more likely to convert, thus reducing cost per acquisition.\n",
    "\n",
    "- Personalize Marketing Strategies: Tailor marketing messages and offers to different customer segments based on their likelihood to convert.\n",
    "\n",
    "- Improve Customer Retention: Identify at-risk customers who are less likely to convert and develop strategies to re-engage them."
   ]
  },
  {
   "cell_type": "markdown",
   "metadata": {},
   "source": [
    "## Data Understanding"
   ]
  },
  {
   "cell_type": "markdown",
   "metadata": {},
   "source": [
    "The data for this analysis was obtained from [kaggle](https://www.kaggle.com/datasets/rabieelkharoua/predict-conversion-in-digital-marketing-dataset/data). \n",
    "This dataset provides a comprehensive view of customer interactions with digital marketing campaigns. It includes demographic data, marketing-specific metrics, customer engagement indicators, and historical purchase data."
   ]
  },
  {
   "cell_type": "markdown",
   "metadata": {},
   "source": [
    "### Data Cleaning and Preperation "
   ]
  },
  {
   "cell_type": "markdown",
   "metadata": {},
   "source": [
    "The data was rather clean from the source.   \n",
    "The activities conducted include:\n",
    "\n",
    "1. Checking for missing values.\n",
    "2. Checking for duplicates. \n",
    "3. Drop irrelevant columns.\n",
    "4. Feature selection.\n",
    "\n"
   ]
  },
  {
   "cell_type": "code",
   "execution_count": 130,
   "metadata": {},
   "outputs": [],
   "source": [
    "# import necessary libraries\n",
    "from sklearn.model_selection import train_test_split, cross_val_score, GridSearchCV\n",
    "from sklearn.preprocessing import OneHotEncoder, MinMaxScaler\n",
    "from sklearn.linear_model import LogisticRegression\n",
    "from sklearn.metrics import confusion_matrix, ConfusionMatrixDisplay, classification_report, mean_squared_error, roc_curve, auc\n",
    "from sklearn.metrics import accuracy_score\n",
    "from sklearn.feature_selection import SelectKBest, mutual_info_classif\n",
    "from sklearn.tree import DecisionTreeClassifier\n",
    "from sklearn.pipeline import Pipeline\n",
    "from sklearn.compose import ColumnTransformer\n",
    "\n",
    "\n",
    "from imblearn.pipeline import Pipeline as ImbPipeline\n",
    "from imblearn.over_sampling import SMOTE\n",
    "import matplotlib.pyplot as plt\n",
    "import pandas as pd\n",
    "import seaborn as sns\n",
    "from xgboost import XGBClassifier\n",
    "\n",
    "\n",
    "import warnings\n",
    "warnings.filterwarnings(\"ignore\")"
   ]
  },
  {
   "cell_type": "code",
   "execution_count": 71,
   "metadata": {},
   "outputs": [
    {
     "data": {
      "text/html": [
       "<div>\n",
       "<style scoped>\n",
       "    .dataframe tbody tr th:only-of-type {\n",
       "        vertical-align: middle;\n",
       "    }\n",
       "\n",
       "    .dataframe tbody tr th {\n",
       "        vertical-align: top;\n",
       "    }\n",
       "\n",
       "    .dataframe thead th {\n",
       "        text-align: right;\n",
       "    }\n",
       "</style>\n",
       "<table border=\"1\" class=\"dataframe\">\n",
       "  <thead>\n",
       "    <tr style=\"text-align: right;\">\n",
       "      <th></th>\n",
       "      <th>CustomerID</th>\n",
       "      <th>Age</th>\n",
       "      <th>Gender</th>\n",
       "      <th>Income</th>\n",
       "      <th>CampaignChannel</th>\n",
       "      <th>CampaignType</th>\n",
       "      <th>AdSpend</th>\n",
       "      <th>ClickThroughRate</th>\n",
       "      <th>ConversionRate</th>\n",
       "      <th>WebsiteVisits</th>\n",
       "      <th>PagesPerVisit</th>\n",
       "      <th>TimeOnSite</th>\n",
       "      <th>SocialShares</th>\n",
       "      <th>EmailOpens</th>\n",
       "      <th>EmailClicks</th>\n",
       "      <th>PreviousPurchases</th>\n",
       "      <th>LoyaltyPoints</th>\n",
       "      <th>AdvertisingPlatform</th>\n",
       "      <th>AdvertisingTool</th>\n",
       "      <th>Conversion</th>\n",
       "    </tr>\n",
       "  </thead>\n",
       "  <tbody>\n",
       "    <tr>\n",
       "      <th>0</th>\n",
       "      <td>8000</td>\n",
       "      <td>56</td>\n",
       "      <td>Female</td>\n",
       "      <td>136912</td>\n",
       "      <td>Social Media</td>\n",
       "      <td>Awareness</td>\n",
       "      <td>6497.870068</td>\n",
       "      <td>0.043919</td>\n",
       "      <td>0.088031</td>\n",
       "      <td>0</td>\n",
       "      <td>2.399017</td>\n",
       "      <td>7.396803</td>\n",
       "      <td>19</td>\n",
       "      <td>6</td>\n",
       "      <td>9</td>\n",
       "      <td>4</td>\n",
       "      <td>688</td>\n",
       "      <td>IsConfid</td>\n",
       "      <td>ToolConfid</td>\n",
       "      <td>1</td>\n",
       "    </tr>\n",
       "    <tr>\n",
       "      <th>1</th>\n",
       "      <td>8001</td>\n",
       "      <td>69</td>\n",
       "      <td>Male</td>\n",
       "      <td>41760</td>\n",
       "      <td>Email</td>\n",
       "      <td>Retention</td>\n",
       "      <td>3898.668606</td>\n",
       "      <td>0.155725</td>\n",
       "      <td>0.182725</td>\n",
       "      <td>42</td>\n",
       "      <td>2.917138</td>\n",
       "      <td>5.352549</td>\n",
       "      <td>5</td>\n",
       "      <td>2</td>\n",
       "      <td>7</td>\n",
       "      <td>2</td>\n",
       "      <td>3459</td>\n",
       "      <td>IsConfid</td>\n",
       "      <td>ToolConfid</td>\n",
       "      <td>1</td>\n",
       "    </tr>\n",
       "    <tr>\n",
       "      <th>2</th>\n",
       "      <td>8002</td>\n",
       "      <td>46</td>\n",
       "      <td>Female</td>\n",
       "      <td>88456</td>\n",
       "      <td>PPC</td>\n",
       "      <td>Awareness</td>\n",
       "      <td>1546.429596</td>\n",
       "      <td>0.277490</td>\n",
       "      <td>0.076423</td>\n",
       "      <td>2</td>\n",
       "      <td>8.223619</td>\n",
       "      <td>13.794901</td>\n",
       "      <td>0</td>\n",
       "      <td>11</td>\n",
       "      <td>2</td>\n",
       "      <td>8</td>\n",
       "      <td>2337</td>\n",
       "      <td>IsConfid</td>\n",
       "      <td>ToolConfid</td>\n",
       "      <td>1</td>\n",
       "    </tr>\n",
       "    <tr>\n",
       "      <th>3</th>\n",
       "      <td>8003</td>\n",
       "      <td>32</td>\n",
       "      <td>Female</td>\n",
       "      <td>44085</td>\n",
       "      <td>PPC</td>\n",
       "      <td>Conversion</td>\n",
       "      <td>539.525936</td>\n",
       "      <td>0.137611</td>\n",
       "      <td>0.088004</td>\n",
       "      <td>47</td>\n",
       "      <td>4.540939</td>\n",
       "      <td>14.688363</td>\n",
       "      <td>89</td>\n",
       "      <td>2</td>\n",
       "      <td>2</td>\n",
       "      <td>0</td>\n",
       "      <td>2463</td>\n",
       "      <td>IsConfid</td>\n",
       "      <td>ToolConfid</td>\n",
       "      <td>1</td>\n",
       "    </tr>\n",
       "    <tr>\n",
       "      <th>4</th>\n",
       "      <td>8004</td>\n",
       "      <td>60</td>\n",
       "      <td>Female</td>\n",
       "      <td>83964</td>\n",
       "      <td>PPC</td>\n",
       "      <td>Conversion</td>\n",
       "      <td>1678.043573</td>\n",
       "      <td>0.252851</td>\n",
       "      <td>0.109940</td>\n",
       "      <td>0</td>\n",
       "      <td>2.046847</td>\n",
       "      <td>13.993370</td>\n",
       "      <td>6</td>\n",
       "      <td>6</td>\n",
       "      <td>6</td>\n",
       "      <td>8</td>\n",
       "      <td>4345</td>\n",
       "      <td>IsConfid</td>\n",
       "      <td>ToolConfid</td>\n",
       "      <td>1</td>\n",
       "    </tr>\n",
       "  </tbody>\n",
       "</table>\n",
       "</div>"
      ],
      "text/plain": [
       "   CustomerID  Age  Gender  Income CampaignChannel CampaignType      AdSpend  \\\n",
       "0        8000   56  Female  136912    Social Media    Awareness  6497.870068   \n",
       "1        8001   69    Male   41760           Email    Retention  3898.668606   \n",
       "2        8002   46  Female   88456             PPC    Awareness  1546.429596   \n",
       "3        8003   32  Female   44085             PPC   Conversion   539.525936   \n",
       "4        8004   60  Female   83964             PPC   Conversion  1678.043573   \n",
       "\n",
       "   ClickThroughRate  ConversionRate  WebsiteVisits  PagesPerVisit  TimeOnSite  \\\n",
       "0          0.043919        0.088031              0       2.399017    7.396803   \n",
       "1          0.155725        0.182725             42       2.917138    5.352549   \n",
       "2          0.277490        0.076423              2       8.223619   13.794901   \n",
       "3          0.137611        0.088004             47       4.540939   14.688363   \n",
       "4          0.252851        0.109940              0       2.046847   13.993370   \n",
       "\n",
       "   SocialShares  EmailOpens  EmailClicks  PreviousPurchases  LoyaltyPoints  \\\n",
       "0            19           6            9                  4            688   \n",
       "1             5           2            7                  2           3459   \n",
       "2             0          11            2                  8           2337   \n",
       "3            89           2            2                  0           2463   \n",
       "4             6           6            6                  8           4345   \n",
       "\n",
       "  AdvertisingPlatform AdvertisingTool  Conversion  \n",
       "0            IsConfid      ToolConfid           1  \n",
       "1            IsConfid      ToolConfid           1  \n",
       "2            IsConfid      ToolConfid           1  \n",
       "3            IsConfid      ToolConfid           1  \n",
       "4            IsConfid      ToolConfid           1  "
      ]
     },
     "execution_count": 71,
     "metadata": {},
     "output_type": "execute_result"
    }
   ],
   "source": [
    "# read data\n",
    "df = pd.read_csv('digital_marketing_campaign_dataset.csv')\n",
    "df.head()"
   ]
  },
  {
   "cell_type": "code",
   "execution_count": 3,
   "metadata": {},
   "outputs": [
    {
     "data": {
      "text/plain": [
       "(8000, 20)"
      ]
     },
     "execution_count": 3,
     "metadata": {},
     "output_type": "execute_result"
    }
   ],
   "source": [
    "df.shape"
   ]
  },
  {
   "cell_type": "code",
   "execution_count": 4,
   "metadata": {},
   "outputs": [
    {
     "name": "stdout",
     "output_type": "stream",
     "text": [
      "<class 'pandas.core.frame.DataFrame'>\n",
      "RangeIndex: 8000 entries, 0 to 7999\n",
      "Data columns (total 20 columns):\n",
      " #   Column               Non-Null Count  Dtype  \n",
      "---  ------               --------------  -----  \n",
      " 0   CustomerID           8000 non-null   int64  \n",
      " 1   Age                  8000 non-null   int64  \n",
      " 2   Gender               8000 non-null   object \n",
      " 3   Income               8000 non-null   int64  \n",
      " 4   CampaignChannel      8000 non-null   object \n",
      " 5   CampaignType         8000 non-null   object \n",
      " 6   AdSpend              8000 non-null   float64\n",
      " 7   ClickThroughRate     8000 non-null   float64\n",
      " 8   ConversionRate       8000 non-null   float64\n",
      " 9   WebsiteVisits        8000 non-null   int64  \n",
      " 10  PagesPerVisit        8000 non-null   float64\n",
      " 11  TimeOnSite           8000 non-null   float64\n",
      " 12  SocialShares         8000 non-null   int64  \n",
      " 13  EmailOpens           8000 non-null   int64  \n",
      " 14  EmailClicks          8000 non-null   int64  \n",
      " 15  PreviousPurchases    8000 non-null   int64  \n",
      " 16  LoyaltyPoints        8000 non-null   int64  \n",
      " 17  AdvertisingPlatform  8000 non-null   object \n",
      " 18  AdvertisingTool      8000 non-null   object \n",
      " 19  Conversion           8000 non-null   int64  \n",
      "dtypes: float64(5), int64(10), object(5)\n",
      "memory usage: 1.2+ MB\n"
     ]
    }
   ],
   "source": [
    "df.info()\n",
    "\n",
    "# no null rows"
   ]
  },
  {
   "cell_type": "code",
   "execution_count": 74,
   "metadata": {},
   "outputs": [
    {
     "data": {
      "text/plain": [
       "0"
      ]
     },
     "execution_count": 74,
     "metadata": {},
     "output_type": "execute_result"
    }
   ],
   "source": [
    "#check for duplicates\n",
    "df.duplicated().sum()"
   ]
  },
  {
   "cell_type": "markdown",
   "metadata": {},
   "source": [
    "## Exploratory Data Analysis\n",
    "1. Univariate Analysis\n",
    "2. Bivariate Analysis"
   ]
  },
  {
   "cell_type": "markdown",
   "metadata": {},
   "source": [
    "### 1. Univariate Analysis"
   ]
  },
  {
   "cell_type": "markdown",
   "metadata": {},
   "source": [
    "#### 1.1 Age"
   ]
  },
  {
   "cell_type": "code",
   "execution_count": 76,
   "metadata": {},
   "outputs": [
    {
     "data": {
      "image/png": "[encoded data removed]",
      "text/plain": [
       "<Figure size 1000x800 with 1 Axes>"
      ]
     },
     "metadata": {},
     "output_type": "display_data"
    },
    {
     "name": "stdout",
     "output_type": "stream",
     "text": [
      "The mean age is:  43.6255\n",
      "The median age is:  43.0\n"
     ]
    }
   ],
   "source": [
    "# plot an age histogram\n",
    "\n",
    "plt.figure(figsize=(10,8))\n",
    "sns.histplot(data=df, x='Age', kde=True)\n",
    "\n",
    "mean = df['Age'].mean() # 43.6255\n",
    "\n",
    "plt.axvline(x=mean, color= 'r')\n",
    "plt.xlabel('Age')\n",
    "plt.ylabel('Count')\n",
    "plt.title('Age Distribution')\n",
    "plt.show();\n",
    "\n",
    "print(\"The mean age is: \",mean)\n",
    "print(\"The median age is: \",df['Age'].median())"
   ]
  },
  {
   "cell_type": "markdown",
   "metadata": {},
   "source": [
    "#### 1.2 Gender"
   ]
  },
  {
   "cell_type": "code",
   "execution_count": 6,
   "metadata": {},
   "outputs": [
    {
     "data": {
      "text/plain": [
       "Gender\n",
       "Female    4839\n",
       "Male      3161\n",
       "Name: count, dtype: int64"
      ]
     },
     "execution_count": 6,
     "metadata": {},
     "output_type": "execute_result"
    }
   ],
   "source": [
    "df['Gender'].value_counts()\n"
   ]
  },
  {
   "cell_type": "code",
   "execution_count": 7,
   "metadata": {},
   "outputs": [
    {
     "data": {
      "text/plain": [
       "<matplotlib.legend.Legend at 0x1671f185220>"
      ]
     },
     "execution_count": 7,
     "metadata": {},
     "output_type": "execute_result"
    },
    {
     "data": {
      "image/png": "[encoded data removed]",
      "text/plain": [
       "<Figure size 640x480 with 1 Axes>"
      ]
     },
     "metadata": {},
     "output_type": "display_data"
    }
   ],
   "source": [
    "plt.pie(df['Gender'].value_counts(), autopct='%1.1f%%')\n",
    "plt.title('Gender Distribution');\n",
    "plt.legend(labels=df['Gender'].value_counts().index)"
   ]
  },
  {
   "cell_type": "markdown",
   "metadata": {},
   "source": [
    "Approximately **60.5%** of the individuals in the dataset are female. "
   ]
  },
  {
   "cell_type": "markdown",
   "metadata": {},
   "source": [
    "Marketing strategies or campaigns could be adjusted to cater more to female preferences or interests, depending on the product or service being marketed."
   ]
  },
  {
   "cell_type": "markdown",
   "metadata": {},
   "source": [
    "#### 1.3 Campaign Channel"
   ]
  },
  {
   "cell_type": "code",
   "execution_count": 8,
   "metadata": {},
   "outputs": [
    {
     "data": {
      "text/plain": [
       "CampaignChannel\n",
       "Referral        1719\n",
       "PPC             1655\n",
       "Email           1557\n",
       "SEO             1550\n",
       "Social Media    1519\n",
       "Name: count, dtype: int64"
      ]
     },
     "execution_count": 8,
     "metadata": {},
     "output_type": "execute_result"
    }
   ],
   "source": [
    "df['CampaignChannel'].value_counts()"
   ]
  },
  {
   "cell_type": "code",
   "execution_count": 9,
   "metadata": {},
   "outputs": [
    {
     "data": {
      "image/png": "[encoded data removed]",
      "text/plain": [
       "<Figure size 1200x800 with 1 Axes>"
      ]
     },
     "metadata": {},
     "output_type": "display_data"
    }
   ],
   "source": [
    "#plot bar plot for campaign channels\n",
    "plt.figure(figsize=(12,8))\n",
    "\n",
    "x = df['CampaignChannel'].value_counts().index\n",
    "y = df['CampaignChannel'].value_counts().values\n",
    "\n",
    "sns.barplot(x=x, y=y, palette='viridis')\n",
    "plt.title('Campaign Channels Distribution')\n",
    "plt.ylabel('Count');\n"
   ]
  },
  {
   "cell_type": "markdown",
   "metadata": {},
   "source": [
    "All channels are mostly used but the most used campaign channel is **Referrals** with (1719)"
   ]
  },
  {
   "cell_type": "markdown",
   "metadata": {},
   "source": [
    "#### 1.4 Campaign type"
   ]
  },
  {
   "cell_type": "code",
   "execution_count": 10,
   "metadata": {},
   "outputs": [
    {
     "data": {
      "text/plain": [
       "CampaignType\n",
       "Conversion       2077\n",
       "Awareness        1988\n",
       "Consideration    1988\n",
       "Retention        1947\n",
       "Name: count, dtype: int64"
      ]
     },
     "execution_count": 10,
     "metadata": {},
     "output_type": "execute_result"
    }
   ],
   "source": [
    "df['CampaignType'].value_counts()"
   ]
  },
  {
   "cell_type": "code",
   "execution_count": 11,
   "metadata": {},
   "outputs": [
    {
     "data": {
      "image/png": "[encoded data removed]",
      "text/plain": [
       "<Figure size 1200x800 with 1 Axes>"
      ]
     },
     "metadata": {},
     "output_type": "display_data"
    }
   ],
   "source": [
    "#plot bar plot for campaign type\n",
    "plt.figure(figsize=(12,8))\n",
    "\n",
    "x = df['CampaignType'].value_counts().index\n",
    "y = df['CampaignType'].value_counts().values\n",
    "\n",
    "sns.barplot(x=x, y=y, palette='viridis')\n",
    "plt.title('Campaign Type Distribution')\n",
    "plt.ylabel('Count');"
   ]
  },
  {
   "cell_type": "markdown",
   "metadata": {},
   "source": [
    "All campaign types are almost equally used but the most used campaign type is **Conversion** with (2077)."
   ]
  },
  {
   "cell_type": "markdown",
   "metadata": {},
   "source": [
    "### 2. Bivariate Analysis"
   ]
  },
  {
   "cell_type": "markdown",
   "metadata": {},
   "source": [
    "#### 2.1 Analyzing age and Campaign type"
   ]
  },
  {
   "cell_type": "code",
   "execution_count": 12,
   "metadata": {},
   "outputs": [
    {
     "data": {
      "text/html": [
       "<div>\n",
       "<style scoped>\n",
       "    .dataframe tbody tr th:only-of-type {\n",
       "        vertical-align: middle;\n",
       "    }\n",
       "\n",
       "    .dataframe tbody tr th {\n",
       "        vertical-align: top;\n",
       "    }\n",
       "\n",
       "    .dataframe thead th {\n",
       "        text-align: right;\n",
       "    }\n",
       "</style>\n",
       "<table border=\"1\" class=\"dataframe\">\n",
       "  <thead>\n",
       "    <tr style=\"text-align: right;\">\n",
       "      <th></th>\n",
       "      <th>CustomerID</th>\n",
       "      <th>Age</th>\n",
       "      <th>Gender</th>\n",
       "      <th>Income</th>\n",
       "      <th>CampaignChannel</th>\n",
       "      <th>CampaignType</th>\n",
       "      <th>AdSpend</th>\n",
       "      <th>ClickThroughRate</th>\n",
       "      <th>ConversionRate</th>\n",
       "      <th>WebsiteVisits</th>\n",
       "      <th>PagesPerVisit</th>\n",
       "      <th>TimeOnSite</th>\n",
       "      <th>SocialShares</th>\n",
       "      <th>EmailOpens</th>\n",
       "      <th>EmailClicks</th>\n",
       "      <th>PreviousPurchases</th>\n",
       "      <th>LoyaltyPoints</th>\n",
       "      <th>AdvertisingPlatform</th>\n",
       "      <th>AdvertisingTool</th>\n",
       "      <th>Conversion</th>\n",
       "    </tr>\n",
       "  </thead>\n",
       "  <tbody>\n",
       "    <tr>\n",
       "      <th>0</th>\n",
       "      <td>8000</td>\n",
       "      <td>56</td>\n",
       "      <td>Female</td>\n",
       "      <td>136912</td>\n",
       "      <td>Social Media</td>\n",
       "      <td>Awareness</td>\n",
       "      <td>6497.870068</td>\n",
       "      <td>0.043919</td>\n",
       "      <td>0.088031</td>\n",
       "      <td>0</td>\n",
       "      <td>2.399017</td>\n",
       "      <td>7.396803</td>\n",
       "      <td>19</td>\n",
       "      <td>6</td>\n",
       "      <td>9</td>\n",
       "      <td>4</td>\n",
       "      <td>688</td>\n",
       "      <td>IsConfid</td>\n",
       "      <td>ToolConfid</td>\n",
       "      <td>1</td>\n",
       "    </tr>\n",
       "    <tr>\n",
       "      <th>1</th>\n",
       "      <td>8001</td>\n",
       "      <td>69</td>\n",
       "      <td>Male</td>\n",
       "      <td>41760</td>\n",
       "      <td>Email</td>\n",
       "      <td>Retention</td>\n",
       "      <td>3898.668606</td>\n",
       "      <td>0.155725</td>\n",
       "      <td>0.182725</td>\n",
       "      <td>42</td>\n",
       "      <td>2.917138</td>\n",
       "      <td>5.352549</td>\n",
       "      <td>5</td>\n",
       "      <td>2</td>\n",
       "      <td>7</td>\n",
       "      <td>2</td>\n",
       "      <td>3459</td>\n",
       "      <td>IsConfid</td>\n",
       "      <td>ToolConfid</td>\n",
       "      <td>1</td>\n",
       "    </tr>\n",
       "    <tr>\n",
       "      <th>2</th>\n",
       "      <td>8002</td>\n",
       "      <td>46</td>\n",
       "      <td>Female</td>\n",
       "      <td>88456</td>\n",
       "      <td>PPC</td>\n",
       "      <td>Awareness</td>\n",
       "      <td>1546.429596</td>\n",
       "      <td>0.277490</td>\n",
       "      <td>0.076423</td>\n",
       "      <td>2</td>\n",
       "      <td>8.223619</td>\n",
       "      <td>13.794901</td>\n",
       "      <td>0</td>\n",
       "      <td>11</td>\n",
       "      <td>2</td>\n",
       "      <td>8</td>\n",
       "      <td>2337</td>\n",
       "      <td>IsConfid</td>\n",
       "      <td>ToolConfid</td>\n",
       "      <td>1</td>\n",
       "    </tr>\n",
       "    <tr>\n",
       "      <th>3</th>\n",
       "      <td>8003</td>\n",
       "      <td>32</td>\n",
       "      <td>Female</td>\n",
       "      <td>44085</td>\n",
       "      <td>PPC</td>\n",
       "      <td>Conversion</td>\n",
       "      <td>539.525936</td>\n",
       "      <td>0.137611</td>\n",
       "      <td>0.088004</td>\n",
       "      <td>47</td>\n",
       "      <td>4.540939</td>\n",
       "      <td>14.688363</td>\n",
       "      <td>89</td>\n",
       "      <td>2</td>\n",
       "      <td>2</td>\n",
       "      <td>0</td>\n",
       "      <td>2463</td>\n",
       "      <td>IsConfid</td>\n",
       "      <td>ToolConfid</td>\n",
       "      <td>1</td>\n",
       "    </tr>\n",
       "    <tr>\n",
       "      <th>4</th>\n",
       "      <td>8004</td>\n",
       "      <td>60</td>\n",
       "      <td>Female</td>\n",
       "      <td>83964</td>\n",
       "      <td>PPC</td>\n",
       "      <td>Conversion</td>\n",
       "      <td>1678.043573</td>\n",
       "      <td>0.252851</td>\n",
       "      <td>0.109940</td>\n",
       "      <td>0</td>\n",
       "      <td>2.046847</td>\n",
       "      <td>13.993370</td>\n",
       "      <td>6</td>\n",
       "      <td>6</td>\n",
       "      <td>6</td>\n",
       "      <td>8</td>\n",
       "      <td>4345</td>\n",
       "      <td>IsConfid</td>\n",
       "      <td>ToolConfid</td>\n",
       "      <td>1</td>\n",
       "    </tr>\n",
       "  </tbody>\n",
       "</table>\n",
       "</div>"
      ],
      "text/plain": [
       "   CustomerID  Age  Gender  Income CampaignChannel CampaignType      AdSpend  \\\n",
       "0        8000   56  Female  136912    Social Media    Awareness  6497.870068   \n",
       "1        8001   69    Male   41760           Email    Retention  3898.668606   \n",
       "2        8002   46  Female   88456             PPC    Awareness  1546.429596   \n",
       "3        8003   32  Female   44085             PPC   Conversion   539.525936   \n",
       "4        8004   60  Female   83964             PPC   Conversion  1678.043573   \n",
       "\n",
       "   ClickThroughRate  ConversionRate  WebsiteVisits  PagesPerVisit  TimeOnSite  \\\n",
       "0          0.043919        0.088031              0       2.399017    7.396803   \n",
       "1          0.155725        0.182725             42       2.917138    5.352549   \n",
       "2          0.277490        0.076423              2       8.223619   13.794901   \n",
       "3          0.137611        0.088004             47       4.540939   14.688363   \n",
       "4          0.252851        0.109940              0       2.046847   13.993370   \n",
       "\n",
       "   SocialShares  EmailOpens  EmailClicks  PreviousPurchases  LoyaltyPoints  \\\n",
       "0            19           6            9                  4            688   \n",
       "1             5           2            7                  2           3459   \n",
       "2             0          11            2                  8           2337   \n",
       "3            89           2            2                  0           2463   \n",
       "4             6           6            6                  8           4345   \n",
       "\n",
       "  AdvertisingPlatform AdvertisingTool  Conversion  \n",
       "0            IsConfid      ToolConfid           1  \n",
       "1            IsConfid      ToolConfid           1  \n",
       "2            IsConfid      ToolConfid           1  \n",
       "3            IsConfid      ToolConfid           1  \n",
       "4            IsConfid      ToolConfid           1  "
      ]
     },
     "execution_count": 12,
     "metadata": {},
     "output_type": "execute_result"
    }
   ],
   "source": [
    "df.head()"
   ]
  },
  {
   "cell_type": "code",
   "execution_count": 13,
   "metadata": {},
   "outputs": [
    {
     "data": {
      "text/html": [
       "<div>\n",
       "<style scoped>\n",
       "    .dataframe tbody tr th:only-of-type {\n",
       "        vertical-align: middle;\n",
       "    }\n",
       "\n",
       "    .dataframe tbody tr th {\n",
       "        vertical-align: top;\n",
       "    }\n",
       "\n",
       "    .dataframe thead th {\n",
       "        text-align: right;\n",
       "    }\n",
       "</style>\n",
       "<table border=\"1\" class=\"dataframe\">\n",
       "  <thead>\n",
       "    <tr style=\"text-align: right;\">\n",
       "      <th></th>\n",
       "      <th>Age</th>\n",
       "      <th>CampaignType</th>\n",
       "      <th>AgeGroup</th>\n",
       "    </tr>\n",
       "  </thead>\n",
       "  <tbody>\n",
       "    <tr>\n",
       "      <th>0</th>\n",
       "      <td>56</td>\n",
       "      <td>Awareness</td>\n",
       "      <td>55-64</td>\n",
       "    </tr>\n",
       "    <tr>\n",
       "      <th>1</th>\n",
       "      <td>69</td>\n",
       "      <td>Retention</td>\n",
       "      <td>65-74</td>\n",
       "    </tr>\n",
       "    <tr>\n",
       "      <th>2</th>\n",
       "      <td>46</td>\n",
       "      <td>Awareness</td>\n",
       "      <td>45-54</td>\n",
       "    </tr>\n",
       "    <tr>\n",
       "      <th>3</th>\n",
       "      <td>32</td>\n",
       "      <td>Conversion</td>\n",
       "      <td>25-34</td>\n",
       "    </tr>\n",
       "    <tr>\n",
       "      <th>4</th>\n",
       "      <td>60</td>\n",
       "      <td>Conversion</td>\n",
       "      <td>55-64</td>\n",
       "    </tr>\n",
       "    <tr>\n",
       "      <th>...</th>\n",
       "      <td>...</td>\n",
       "      <td>...</td>\n",
       "      <td>...</td>\n",
       "    </tr>\n",
       "    <tr>\n",
       "      <th>7995</th>\n",
       "      <td>21</td>\n",
       "      <td>Awareness</td>\n",
       "      <td>18-24</td>\n",
       "    </tr>\n",
       "    <tr>\n",
       "      <th>7996</th>\n",
       "      <td>43</td>\n",
       "      <td>Retention</td>\n",
       "      <td>35-44</td>\n",
       "    </tr>\n",
       "    <tr>\n",
       "      <th>7997</th>\n",
       "      <td>28</td>\n",
       "      <td>Consideration</td>\n",
       "      <td>25-34</td>\n",
       "    </tr>\n",
       "    <tr>\n",
       "      <th>7998</th>\n",
       "      <td>19</td>\n",
       "      <td>Consideration</td>\n",
       "      <td>18-24</td>\n",
       "    </tr>\n",
       "    <tr>\n",
       "      <th>7999</th>\n",
       "      <td>31</td>\n",
       "      <td>Awareness</td>\n",
       "      <td>25-34</td>\n",
       "    </tr>\n",
       "  </tbody>\n",
       "</table>\n",
       "<p>8000 rows × 3 columns</p>\n",
       "</div>"
      ],
      "text/plain": [
       "      Age   CampaignType AgeGroup\n",
       "0      56      Awareness    55-64\n",
       "1      69      Retention    65-74\n",
       "2      46      Awareness    45-54\n",
       "3      32     Conversion    25-34\n",
       "4      60     Conversion    55-64\n",
       "...   ...            ...      ...\n",
       "7995   21      Awareness    18-24\n",
       "7996   43      Retention    35-44\n",
       "7997   28  Consideration    25-34\n",
       "7998   19  Consideration    18-24\n",
       "7999   31      Awareness    25-34\n",
       "\n",
       "[8000 rows x 3 columns]"
      ]
     },
     "execution_count": 13,
     "metadata": {},
     "output_type": "execute_result"
    }
   ],
   "source": [
    "age_campaign = df[['Age', 'CampaignType' ]]\n",
    "\n",
    "# define age bins and labels\n",
    "bins = [18, 25, 35, 45, 55, 65, 75]\n",
    "labels = ['18-24', '25-34', '35-44', '45-54', '55-64', '65-74']\n",
    "\n",
    "# bin the age columns into categories\n",
    "age_campaign['AgeGroup'] = pd.cut(df['Age'], bins=bins, labels=labels, right=False)\n",
    "\n",
    "age_campaign"
   ]
  },
  {
   "cell_type": "code",
   "execution_count": 14,
   "metadata": {},
   "outputs": [
    {
     "data": {
      "text/html": [
       "<div>\n",
       "<style scoped>\n",
       "    .dataframe tbody tr th:only-of-type {\n",
       "        vertical-align: middle;\n",
       "    }\n",
       "\n",
       "    .dataframe tbody tr th {\n",
       "        vertical-align: top;\n",
       "    }\n",
       "\n",
       "    .dataframe thead th {\n",
       "        text-align: right;\n",
       "    }\n",
       "</style>\n",
       "<table border=\"1\" class=\"dataframe\">\n",
       "  <thead>\n",
       "    <tr style=\"text-align: right;\">\n",
       "      <th>CampaignType</th>\n",
       "      <th>Awareness</th>\n",
       "      <th>Consideration</th>\n",
       "      <th>Conversion</th>\n",
       "      <th>Retention</th>\n",
       "    </tr>\n",
       "    <tr>\n",
       "      <th>AgeGroup</th>\n",
       "      <th></th>\n",
       "      <th></th>\n",
       "      <th></th>\n",
       "      <th></th>\n",
       "    </tr>\n",
       "  </thead>\n",
       "  <tbody>\n",
       "    <tr>\n",
       "      <th>18-24</th>\n",
       "      <td>267</td>\n",
       "      <td>282</td>\n",
       "      <td>261</td>\n",
       "      <td>221</td>\n",
       "    </tr>\n",
       "    <tr>\n",
       "      <th>25-34</th>\n",
       "      <td>414</td>\n",
       "      <td>351</td>\n",
       "      <td>384</td>\n",
       "      <td>380</td>\n",
       "    </tr>\n",
       "    <tr>\n",
       "      <th>35-44</th>\n",
       "      <td>391</td>\n",
       "      <td>398</td>\n",
       "      <td>422</td>\n",
       "      <td>374</td>\n",
       "    </tr>\n",
       "    <tr>\n",
       "      <th>45-54</th>\n",
       "      <td>382</td>\n",
       "      <td>394</td>\n",
       "      <td>382</td>\n",
       "      <td>408</td>\n",
       "    </tr>\n",
       "    <tr>\n",
       "      <th>55-64</th>\n",
       "      <td>357</td>\n",
       "      <td>373</td>\n",
       "      <td>430</td>\n",
       "      <td>375</td>\n",
       "    </tr>\n",
       "    <tr>\n",
       "      <th>65-74</th>\n",
       "      <td>177</td>\n",
       "      <td>190</td>\n",
       "      <td>198</td>\n",
       "      <td>189</td>\n",
       "    </tr>\n",
       "  </tbody>\n",
       "</table>\n",
       "</div>"
      ],
      "text/plain": [
       "CampaignType  Awareness  Consideration  Conversion  Retention\n",
       "AgeGroup                                                     \n",
       "18-24               267            282         261        221\n",
       "25-34               414            351         384        380\n",
       "35-44               391            398         422        374\n",
       "45-54               382            394         382        408\n",
       "55-64               357            373         430        375\n",
       "65-74               177            190         198        189"
      ]
     },
     "execution_count": 14,
     "metadata": {},
     "output_type": "execute_result"
    }
   ],
   "source": [
    "# analyze channel usage by age group\n",
    "campaign_type_by_age = age_campaign.groupby('AgeGroup')['CampaignType'].value_counts().unstack()\n",
    "campaign_type_by_age"
   ]
  },
  {
   "cell_type": "code",
   "execution_count": 15,
   "metadata": {},
   "outputs": [
    {
     "data": {
      "image/png": "[encoded data removed]",
      "text/plain": [
       "<Figure size 1400x800 with 1 Axes>"
      ]
     },
     "metadata": {},
     "output_type": "display_data"
    }
   ],
   "source": [
    "# Define color palette for distinct and contrasting colors\n",
    "colors = ['#1f77b4', '#ff7f0e', '#2ca02c', '#d62728']\n",
    "\n",
    "# Plot grouped bar chart\n",
    "ax = campaign_type_by_age.plot(kind='bar', stacked=False, figsize=(14, 8), color=colors, width=0.75)\n",
    "\n",
    "# Add data labels on each bar\n",
    "for container in ax.containers:\n",
    "    ax.bar_label(container, label_type='edge', fontsize=10, padding=3)\n",
    "\n",
    "# Chart title and labels\n",
    "plt.title('Campaign Type by Age Group', fontsize=16)\n",
    "plt.xlabel('Age Group', fontsize=14)\n",
    "plt.ylabel('Number of Users', fontsize=14)\n",
    "\n",
    "# Rotate x-axis labels for better readability\n",
    "plt.xticks(rotation=0, fontsize=12)\n",
    "\n",
    "# Adjust legend and grid\n",
    "plt.legend(title='Campaign Type', fontsize=12, title_fontsize=12)\n",
    "plt.grid(axis='y', linestyle='--', alpha=0.7)\n",
    "\n",
    "plt.show()"
   ]
  },
  {
   "cell_type": "markdown",
   "metadata": {},
   "source": [
    "The distribution of each campaign type (Awareness, Consideration, Conversion, Retention) is relatively balanced across all age groups, indicating that the company’s marketing strategy is consistently applied to all age groups.\n",
    "\n",
    "The **18-24** age group - The numbers for this group are relatively lower compared to the other groups, with the highest engagement in the '**Consideration**' campaign (282 users) and the lowest in the 'Retention' campaign (221 users).\n",
    "This suggests that while younger audiences are targeted by marketing campaigns, they are not as actively engaged as other age groups, possibly due to **different interests** or **lower purchasing power.**\n",
    "\n",
    "**25-34**: This group shows strong engagement across all campaign types, with '**Awareness**' campaigns leading (414 users). This suggests that the 25-34 age group is particularly responsive to campaigns that introduce them to new products or services. \n",
    "\n",
    "**35-44**: This age group has the highest counts, especially in '**Conversion**' (422 users) and 'Consideration' (398 users). This could mean that middle-aged adults are a prime target for conversion efforts, likely due to **higher purchasing power** or **more decisive buying behavior.**\n",
    "\n",
    "**45-54**: This group also shows strong engagement across all campaign types, with '**Retention**'campaigns edging the lead (408 users). This suggests a focus on retaining the customers. \n",
    "\n",
    "**55-64**: This age group has a higher response to '**Conversion**' campaigns (430 users) compared to 'Awareness', indicating a focus on converting existing leads rather than attracting new ones.\n",
    "\n",
    "65-74: As previously noted, this age group has the lowest number of users across all campaigns, indicating lower engagement or targeting.\n",
    "\n"
   ]
  },
  {
   "cell_type": "markdown",
   "metadata": {},
   "source": [
    "#### 2.2 Analyzing Age and previous purchases"
   ]
  },
  {
   "cell_type": "code",
   "execution_count": 16,
   "metadata": {},
   "outputs": [
    {
     "data": {
      "text/html": [
       "<div>\n",
       "<style scoped>\n",
       "    .dataframe tbody tr th:only-of-type {\n",
       "        vertical-align: middle;\n",
       "    }\n",
       "\n",
       "    .dataframe tbody tr th {\n",
       "        vertical-align: top;\n",
       "    }\n",
       "\n",
       "    .dataframe thead th {\n",
       "        text-align: right;\n",
       "    }\n",
       "</style>\n",
       "<table border=\"1\" class=\"dataframe\">\n",
       "  <thead>\n",
       "    <tr style=\"text-align: right;\">\n",
       "      <th></th>\n",
       "      <th>Age</th>\n",
       "      <th>PreviousPurchases</th>\n",
       "    </tr>\n",
       "  </thead>\n",
       "  <tbody>\n",
       "    <tr>\n",
       "      <th>0</th>\n",
       "      <td>56</td>\n",
       "      <td>4</td>\n",
       "    </tr>\n",
       "    <tr>\n",
       "      <th>1</th>\n",
       "      <td>69</td>\n",
       "      <td>2</td>\n",
       "    </tr>\n",
       "    <tr>\n",
       "      <th>2</th>\n",
       "      <td>46</td>\n",
       "      <td>8</td>\n",
       "    </tr>\n",
       "    <tr>\n",
       "      <th>3</th>\n",
       "      <td>32</td>\n",
       "      <td>0</td>\n",
       "    </tr>\n",
       "    <tr>\n",
       "      <th>4</th>\n",
       "      <td>60</td>\n",
       "      <td>8</td>\n",
       "    </tr>\n",
       "    <tr>\n",
       "      <th>...</th>\n",
       "      <td>...</td>\n",
       "      <td>...</td>\n",
       "    </tr>\n",
       "    <tr>\n",
       "      <th>7995</th>\n",
       "      <td>21</td>\n",
       "      <td>7</td>\n",
       "    </tr>\n",
       "    <tr>\n",
       "      <th>7996</th>\n",
       "      <td>43</td>\n",
       "      <td>5</td>\n",
       "    </tr>\n",
       "    <tr>\n",
       "      <th>7997</th>\n",
       "      <td>28</td>\n",
       "      <td>3</td>\n",
       "    </tr>\n",
       "    <tr>\n",
       "      <th>7998</th>\n",
       "      <td>19</td>\n",
       "      <td>7</td>\n",
       "    </tr>\n",
       "    <tr>\n",
       "      <th>7999</th>\n",
       "      <td>31</td>\n",
       "      <td>9</td>\n",
       "    </tr>\n",
       "  </tbody>\n",
       "</table>\n",
       "<p>8000 rows × 2 columns</p>\n",
       "</div>"
      ],
      "text/plain": [
       "      Age  PreviousPurchases\n",
       "0      56                  4\n",
       "1      69                  2\n",
       "2      46                  8\n",
       "3      32                  0\n",
       "4      60                  8\n",
       "...   ...                ...\n",
       "7995   21                  7\n",
       "7996   43                  5\n",
       "7997   28                  3\n",
       "7998   19                  7\n",
       "7999   31                  9\n",
       "\n",
       "[8000 rows x 2 columns]"
      ]
     },
     "execution_count": 16,
     "metadata": {},
     "output_type": "execute_result"
    }
   ],
   "source": [
    "age_ppurchases = df[['Age', 'PreviousPurchases']]\n",
    "age_ppurchases"
   ]
  },
  {
   "cell_type": "code",
   "execution_count": 17,
   "metadata": {},
   "outputs": [
    {
     "data": {
      "text/html": [
       "<div>\n",
       "<style scoped>\n",
       "    .dataframe tbody tr th:only-of-type {\n",
       "        vertical-align: middle;\n",
       "    }\n",
       "\n",
       "    .dataframe tbody tr th {\n",
       "        vertical-align: top;\n",
       "    }\n",
       "\n",
       "    .dataframe thead th {\n",
       "        text-align: right;\n",
       "    }\n",
       "</style>\n",
       "<table border=\"1\" class=\"dataframe\">\n",
       "  <thead>\n",
       "    <tr style=\"text-align: right;\">\n",
       "      <th></th>\n",
       "      <th>Age</th>\n",
       "      <th>PreviousPurchases</th>\n",
       "      <th>AgeGroup</th>\n",
       "    </tr>\n",
       "  </thead>\n",
       "  <tbody>\n",
       "    <tr>\n",
       "      <th>0</th>\n",
       "      <td>56</td>\n",
       "      <td>4</td>\n",
       "      <td>55-64</td>\n",
       "    </tr>\n",
       "    <tr>\n",
       "      <th>1</th>\n",
       "      <td>69</td>\n",
       "      <td>2</td>\n",
       "      <td>65-74</td>\n",
       "    </tr>\n",
       "    <tr>\n",
       "      <th>2</th>\n",
       "      <td>46</td>\n",
       "      <td>8</td>\n",
       "      <td>45-54</td>\n",
       "    </tr>\n",
       "    <tr>\n",
       "      <th>3</th>\n",
       "      <td>32</td>\n",
       "      <td>0</td>\n",
       "      <td>25-34</td>\n",
       "    </tr>\n",
       "    <tr>\n",
       "      <th>4</th>\n",
       "      <td>60</td>\n",
       "      <td>8</td>\n",
       "      <td>55-64</td>\n",
       "    </tr>\n",
       "    <tr>\n",
       "      <th>...</th>\n",
       "      <td>...</td>\n",
       "      <td>...</td>\n",
       "      <td>...</td>\n",
       "    </tr>\n",
       "    <tr>\n",
       "      <th>7995</th>\n",
       "      <td>21</td>\n",
       "      <td>7</td>\n",
       "      <td>18-24</td>\n",
       "    </tr>\n",
       "    <tr>\n",
       "      <th>7996</th>\n",
       "      <td>43</td>\n",
       "      <td>5</td>\n",
       "      <td>35-44</td>\n",
       "    </tr>\n",
       "    <tr>\n",
       "      <th>7997</th>\n",
       "      <td>28</td>\n",
       "      <td>3</td>\n",
       "      <td>25-34</td>\n",
       "    </tr>\n",
       "    <tr>\n",
       "      <th>7998</th>\n",
       "      <td>19</td>\n",
       "      <td>7</td>\n",
       "      <td>18-24</td>\n",
       "    </tr>\n",
       "    <tr>\n",
       "      <th>7999</th>\n",
       "      <td>31</td>\n",
       "      <td>9</td>\n",
       "      <td>25-34</td>\n",
       "    </tr>\n",
       "  </tbody>\n",
       "</table>\n",
       "<p>8000 rows × 3 columns</p>\n",
       "</div>"
      ],
      "text/plain": [
       "      Age  PreviousPurchases AgeGroup\n",
       "0      56                  4    55-64\n",
       "1      69                  2    65-74\n",
       "2      46                  8    45-54\n",
       "3      32                  0    25-34\n",
       "4      60                  8    55-64\n",
       "...   ...                ...      ...\n",
       "7995   21                  7    18-24\n",
       "7996   43                  5    35-44\n",
       "7997   28                  3    25-34\n",
       "7998   19                  7    18-24\n",
       "7999   31                  9    25-34\n",
       "\n",
       "[8000 rows x 3 columns]"
      ]
     },
     "execution_count": 17,
     "metadata": {},
     "output_type": "execute_result"
    }
   ],
   "source": [
    "# define age bins and labels\n",
    "bins = [18, 25, 35, 45, 55, 65, 75]\n",
    "labels = ['18-24', '25-34', '35-44', '45-54', '55-64', '65-74']\n",
    "\n",
    "age_ppurchases['AgeGroup'] = pd.cut(df['Age'], bins=bins, labels=labels, right=False)\n",
    "age_ppurchases"
   ]
  },
  {
   "cell_type": "code",
   "execution_count": 18,
   "metadata": {},
   "outputs": [
    {
     "data": {
      "text/html": [
       "<div>\n",
       "<style scoped>\n",
       "    .dataframe tbody tr th:only-of-type {\n",
       "        vertical-align: middle;\n",
       "    }\n",
       "\n",
       "    .dataframe tbody tr th {\n",
       "        vertical-align: top;\n",
       "    }\n",
       "\n",
       "    .dataframe thead th {\n",
       "        text-align: right;\n",
       "    }\n",
       "</style>\n",
       "<table border=\"1\" class=\"dataframe\">\n",
       "  <thead>\n",
       "    <tr style=\"text-align: right;\">\n",
       "      <th></th>\n",
       "      <th>PreviousPurchases</th>\n",
       "      <th>AgeGroup</th>\n",
       "    </tr>\n",
       "  </thead>\n",
       "  <tbody>\n",
       "    <tr>\n",
       "      <th>0</th>\n",
       "      <td>4</td>\n",
       "      <td>55-64</td>\n",
       "    </tr>\n",
       "    <tr>\n",
       "      <th>1</th>\n",
       "      <td>2</td>\n",
       "      <td>65-74</td>\n",
       "    </tr>\n",
       "    <tr>\n",
       "      <th>2</th>\n",
       "      <td>8</td>\n",
       "      <td>45-54</td>\n",
       "    </tr>\n",
       "    <tr>\n",
       "      <th>3</th>\n",
       "      <td>0</td>\n",
       "      <td>25-34</td>\n",
       "    </tr>\n",
       "    <tr>\n",
       "      <th>4</th>\n",
       "      <td>8</td>\n",
       "      <td>55-64</td>\n",
       "    </tr>\n",
       "    <tr>\n",
       "      <th>...</th>\n",
       "      <td>...</td>\n",
       "      <td>...</td>\n",
       "    </tr>\n",
       "    <tr>\n",
       "      <th>7995</th>\n",
       "      <td>7</td>\n",
       "      <td>18-24</td>\n",
       "    </tr>\n",
       "    <tr>\n",
       "      <th>7996</th>\n",
       "      <td>5</td>\n",
       "      <td>35-44</td>\n",
       "    </tr>\n",
       "    <tr>\n",
       "      <th>7997</th>\n",
       "      <td>3</td>\n",
       "      <td>25-34</td>\n",
       "    </tr>\n",
       "    <tr>\n",
       "      <th>7998</th>\n",
       "      <td>7</td>\n",
       "      <td>18-24</td>\n",
       "    </tr>\n",
       "    <tr>\n",
       "      <th>7999</th>\n",
       "      <td>9</td>\n",
       "      <td>25-34</td>\n",
       "    </tr>\n",
       "  </tbody>\n",
       "</table>\n",
       "<p>8000 rows × 2 columns</p>\n",
       "</div>"
      ],
      "text/plain": [
       "      PreviousPurchases AgeGroup\n",
       "0                     4    55-64\n",
       "1                     2    65-74\n",
       "2                     8    45-54\n",
       "3                     0    25-34\n",
       "4                     8    55-64\n",
       "...                 ...      ...\n",
       "7995                  7    18-24\n",
       "7996                  5    35-44\n",
       "7997                  3    25-34\n",
       "7998                  7    18-24\n",
       "7999                  9    25-34\n",
       "\n",
       "[8000 rows x 2 columns]"
      ]
     },
     "execution_count": 18,
     "metadata": {},
     "output_type": "execute_result"
    }
   ],
   "source": [
    "age_ppurchases = age_ppurchases.drop('Age', axis=1)\n",
    "age_ppurchases"
   ]
  },
  {
   "cell_type": "code",
   "execution_count": 19,
   "metadata": {},
   "outputs": [
    {
     "data": {
      "text/html": [
       "<div>\n",
       "<style scoped>\n",
       "    .dataframe tbody tr th:only-of-type {\n",
       "        vertical-align: middle;\n",
       "    }\n",
       "\n",
       "    .dataframe tbody tr th {\n",
       "        vertical-align: top;\n",
       "    }\n",
       "\n",
       "    .dataframe thead th {\n",
       "        text-align: right;\n",
       "    }\n",
       "</style>\n",
       "<table border=\"1\" class=\"dataframe\">\n",
       "  <thead>\n",
       "    <tr style=\"text-align: right;\">\n",
       "      <th></th>\n",
       "      <th>PreviousPurchases</th>\n",
       "    </tr>\n",
       "    <tr>\n",
       "      <th>AgeGroup</th>\n",
       "      <th></th>\n",
       "    </tr>\n",
       "  </thead>\n",
       "  <tbody>\n",
       "    <tr>\n",
       "      <th>18-24</th>\n",
       "      <td>1031</td>\n",
       "    </tr>\n",
       "    <tr>\n",
       "      <th>25-34</th>\n",
       "      <td>1529</td>\n",
       "    </tr>\n",
       "    <tr>\n",
       "      <th>35-44</th>\n",
       "      <td>1585</td>\n",
       "    </tr>\n",
       "    <tr>\n",
       "      <th>45-54</th>\n",
       "      <td>1566</td>\n",
       "    </tr>\n",
       "    <tr>\n",
       "      <th>55-64</th>\n",
       "      <td>1535</td>\n",
       "    </tr>\n",
       "    <tr>\n",
       "      <th>65-74</th>\n",
       "      <td>754</td>\n",
       "    </tr>\n",
       "  </tbody>\n",
       "</table>\n",
       "</div>"
      ],
      "text/plain": [
       "          PreviousPurchases\n",
       "AgeGroup                   \n",
       "18-24                  1031\n",
       "25-34                  1529\n",
       "35-44                  1585\n",
       "45-54                  1566\n",
       "55-64                  1535\n",
       "65-74                   754"
      ]
     },
     "execution_count": 19,
     "metadata": {},
     "output_type": "execute_result"
    }
   ],
   "source": [
    "# group by agegroup and count\n",
    "age_by_purchases = age_ppurchases.groupby('AgeGroup').count()\n",
    "age_by_purchases"
   ]
  },
  {
   "cell_type": "code",
   "execution_count": 20,
   "metadata": {},
   "outputs": [
    {
     "data": {
      "image/png": "[encoded data removed]",
      "text/plain": [
       "<Figure size 640x480 with 1 Axes>"
      ]
     },
     "metadata": {},
     "output_type": "display_data"
    }
   ],
   "source": [
    "# plot a bar chart\n",
    "age_by_purchases.plot(kind='bar', colormap='YlOrBr_r')\n",
    "plt.xlabel('Age group')\n",
    "plt.ylabel('Number of Previous Purchases')\n",
    "\n",
    "# rotate x ticks\n",
    "plt.xticks(rotation=0)\n",
    "\n",
    "plt.title('Previous Purchases by Age groups')\n",
    "plt.grid(axis='y', linestyle='--', alpha=0.7)\n",
    "plt.legend([],[])\n",
    "plt.show();"
   ]
  },
  {
   "cell_type": "markdown",
   "metadata": {},
   "source": [
    "- **18-24**: seem to have a less previous purchases which maybe attributed to less purchasing power (1031).\n",
    "- **34-44**: Have the highest previous purchases count (1585). \n",
    "- **25-34**, 45-64 and 55-64 : have high previous purchases (above 1500)\n",
    "- **65-74**: This group has lowest previous purchases which maybe attributed by less engagement.\n"
   ]
  },
  {
   "cell_type": "markdown",
   "metadata": {},
   "source": [
    "#### 2.3 Analyze campaign type and money spent on advertising"
   ]
  },
  {
   "cell_type": "code",
   "execution_count": 21,
   "metadata": {},
   "outputs": [
    {
     "data": {
      "text/html": [
       "<div>\n",
       "<style scoped>\n",
       "    .dataframe tbody tr th:only-of-type {\n",
       "        vertical-align: middle;\n",
       "    }\n",
       "\n",
       "    .dataframe tbody tr th {\n",
       "        vertical-align: top;\n",
       "    }\n",
       "\n",
       "    .dataframe thead th {\n",
       "        text-align: right;\n",
       "    }\n",
       "</style>\n",
       "<table border=\"1\" class=\"dataframe\">\n",
       "  <thead>\n",
       "    <tr style=\"text-align: right;\">\n",
       "      <th></th>\n",
       "      <th>CampaignType</th>\n",
       "      <th>AdSpend</th>\n",
       "    </tr>\n",
       "  </thead>\n",
       "  <tbody>\n",
       "    <tr>\n",
       "      <th>0</th>\n",
       "      <td>Awareness</td>\n",
       "      <td>6497.870068</td>\n",
       "    </tr>\n",
       "    <tr>\n",
       "      <th>1</th>\n",
       "      <td>Retention</td>\n",
       "      <td>3898.668606</td>\n",
       "    </tr>\n",
       "    <tr>\n",
       "      <th>2</th>\n",
       "      <td>Awareness</td>\n",
       "      <td>1546.429596</td>\n",
       "    </tr>\n",
       "    <tr>\n",
       "      <th>3</th>\n",
       "      <td>Conversion</td>\n",
       "      <td>539.525936</td>\n",
       "    </tr>\n",
       "    <tr>\n",
       "      <th>4</th>\n",
       "      <td>Conversion</td>\n",
       "      <td>1678.043573</td>\n",
       "    </tr>\n",
       "    <tr>\n",
       "      <th>...</th>\n",
       "      <td>...</td>\n",
       "      <td>...</td>\n",
       "    </tr>\n",
       "    <tr>\n",
       "      <th>7995</th>\n",
       "      <td>Awareness</td>\n",
       "      <td>8518.308575</td>\n",
       "    </tr>\n",
       "    <tr>\n",
       "      <th>7996</th>\n",
       "      <td>Retention</td>\n",
       "      <td>1424.613446</td>\n",
       "    </tr>\n",
       "    <tr>\n",
       "      <th>7997</th>\n",
       "      <td>Consideration</td>\n",
       "      <td>4609.534635</td>\n",
       "    </tr>\n",
       "    <tr>\n",
       "      <th>7998</th>\n",
       "      <td>Consideration</td>\n",
       "      <td>9476.106354</td>\n",
       "    </tr>\n",
       "    <tr>\n",
       "      <th>7999</th>\n",
       "      <td>Awareness</td>\n",
       "      <td>7743.627070</td>\n",
       "    </tr>\n",
       "  </tbody>\n",
       "</table>\n",
       "<p>8000 rows × 2 columns</p>\n",
       "</div>"
      ],
      "text/plain": [
       "       CampaignType      AdSpend\n",
       "0         Awareness  6497.870068\n",
       "1         Retention  3898.668606\n",
       "2         Awareness  1546.429596\n",
       "3        Conversion   539.525936\n",
       "4        Conversion  1678.043573\n",
       "...             ...          ...\n",
       "7995      Awareness  8518.308575\n",
       "7996      Retention  1424.613446\n",
       "7997  Consideration  4609.534635\n",
       "7998  Consideration  9476.106354\n",
       "7999      Awareness  7743.627070\n",
       "\n",
       "[8000 rows x 2 columns]"
      ]
     },
     "execution_count": 21,
     "metadata": {},
     "output_type": "execute_result"
    }
   ],
   "source": [
    "# group the columns\n",
    "campaign_type_by_adspend = df[['CampaignType', 'AdSpend']]\n",
    "campaign_type_by_adspend"
   ]
  },
  {
   "cell_type": "code",
   "execution_count": 22,
   "metadata": {},
   "outputs": [
    {
     "data": {
      "text/html": [
       "<div>\n",
       "<style scoped>\n",
       "    .dataframe tbody tr th:only-of-type {\n",
       "        vertical-align: middle;\n",
       "    }\n",
       "\n",
       "    .dataframe tbody tr th {\n",
       "        vertical-align: top;\n",
       "    }\n",
       "\n",
       "    .dataframe thead th {\n",
       "        text-align: right;\n",
       "    }\n",
       "</style>\n",
       "<table border=\"1\" class=\"dataframe\">\n",
       "  <thead>\n",
       "    <tr style=\"text-align: right;\">\n",
       "      <th></th>\n",
       "      <th>AdSpend</th>\n",
       "    </tr>\n",
       "    <tr>\n",
       "      <th>CampaignType</th>\n",
       "      <th></th>\n",
       "    </tr>\n",
       "  </thead>\n",
       "  <tbody>\n",
       "    <tr>\n",
       "      <th>Awareness</th>\n",
       "      <td>5069.338947</td>\n",
       "    </tr>\n",
       "    <tr>\n",
       "      <th>Consideration</th>\n",
       "      <td>4960.399233</td>\n",
       "    </tr>\n",
       "    <tr>\n",
       "      <th>Conversion</th>\n",
       "      <td>4959.112653</td>\n",
       "    </tr>\n",
       "    <tr>\n",
       "      <th>Retention</th>\n",
       "      <td>5017.135162</td>\n",
       "    </tr>\n",
       "  </tbody>\n",
       "</table>\n",
       "</div>"
      ],
      "text/plain": [
       "                   AdSpend\n",
       "CampaignType              \n",
       "Awareness      5069.338947\n",
       "Consideration  4960.399233\n",
       "Conversion     4959.112653\n",
       "Retention      5017.135162"
      ]
     },
     "execution_count": 22,
     "metadata": {},
     "output_type": "execute_result"
    }
   ],
   "source": [
    "avg_adspend_by_campaigntype = campaign_type_by_adspend.groupby('CampaignType').agg({\n",
    "    'AdSpend': 'mean'\n",
    "})\n",
    "avg_adspend_by_campaigntype"
   ]
  },
  {
   "cell_type": "code",
   "execution_count": 23,
   "metadata": {},
   "outputs": [
    {
     "data": {
      "text/plain": [
       "<Figure size 1200x1000 with 0 Axes>"
      ]
     },
     "metadata": {},
     "output_type": "display_data"
    },
    {
     "data": {
      "image/png": "[encoded data removed]",
      "text/plain": [
       "<Figure size 640x480 with 1 Axes>"
      ]
     },
     "metadata": {},
     "output_type": "display_data"
    }
   ],
   "source": [
    "#plot visualization \n",
    "plt.figure(figsize=(12,10))\n",
    "\n",
    "avg_adspend_by_campaigntype.plot(kind='bar', colormap='viridis')\n",
    "plt.xlabel('Campaign Type')\n",
    "plt.ylabel('Average Amount spent')\n",
    "plt.title('Average AdSpend by Campaign Type')\n",
    "\n",
    "# Rotate x-axis labels for better readability\n",
    "plt.xticks(rotation=0)\n",
    "\n",
    "plt.show();\n",
    "\n"
   ]
  },
  {
   "cell_type": "markdown",
   "metadata": {},
   "source": [
    "On average, they spend almost equally for all marketing campaigns types. However, 'Awareness' edges the spend with just over ($5000). "
   ]
  },
  {
   "cell_type": "markdown",
   "metadata": {},
   "source": [
    "#### 2.4 Analyzing Previous purchases impact on conversion"
   ]
  },
  {
   "cell_type": "code",
   "execution_count": 24,
   "metadata": {},
   "outputs": [
    {
     "data": {
      "image/png": "[encoded data removed]",
      "text/plain": [
       "<Figure size 640x480 with 1 Axes>"
      ]
     },
     "metadata": {},
     "output_type": "display_data"
    }
   ],
   "source": [
    "# barplot visualization\n",
    "sns.barplot(data=df, x='Conversion', y='PreviousPurchases')\n",
    "plt.title('Conversion by Previous Purchases')\n",
    "plt.show();"
   ]
  },
  {
   "cell_type": "markdown",
   "metadata": {},
   "source": [
    "The individuals with more previous purchases seems to result in a higher conversion."
   ]
  },
  {
   "cell_type": "markdown",
   "metadata": {},
   "source": [
    "#### 2.4 Analyzing Loyalty Points impact on conversion"
   ]
  },
  {
   "cell_type": "code",
   "execution_count": 25,
   "metadata": {},
   "outputs": [
    {
     "data": {
      "image/png": "[encoded data removed]",
      "text/plain": [
       "<Figure size 640x480 with 1 Axes>"
      ]
     },
     "metadata": {},
     "output_type": "display_data"
    }
   ],
   "source": [
    "sns.barplot(data=df, x='Conversion', y='LoyaltyPoints')\n",
    "plt.title('Conversion by Loyalty Points')\n",
    "plt.show()"
   ]
  },
  {
   "cell_type": "markdown",
   "metadata": {},
   "source": [
    "Higher loyalty points results to more conversion (1)"
   ]
  },
  {
   "cell_type": "markdown",
   "metadata": {},
   "source": [
    "## MODELING"
   ]
  },
  {
   "cell_type": "code",
   "execution_count": 26,
   "metadata": {},
   "outputs": [
    {
     "data": {
      "text/plain": [
       "Conversion\n",
       "1    7012\n",
       "0     988\n",
       "Name: count, dtype: int64"
      ]
     },
     "execution_count": 26,
     "metadata": {},
     "output_type": "execute_result"
    }
   ],
   "source": [
    "df['Conversion'].value_counts()"
   ]
  },
  {
   "cell_type": "code",
   "execution_count": 27,
   "metadata": {},
   "outputs": [
    {
     "name": "stdout",
     "output_type": "stream",
     "text": [
      "<class 'pandas.core.frame.DataFrame'>\n",
      "RangeIndex: 8000 entries, 0 to 7999\n",
      "Data columns (total 20 columns):\n",
      " #   Column               Non-Null Count  Dtype  \n",
      "---  ------               --------------  -----  \n",
      " 0   CustomerID           8000 non-null   int64  \n",
      " 1   Age                  8000 non-null   int64  \n",
      " 2   Gender               8000 non-null   object \n",
      " 3   Income               8000 non-null   int64  \n",
      " 4   CampaignChannel      8000 non-null   object \n",
      " 5   CampaignType         8000 non-null   object \n",
      " 6   AdSpend              8000 non-null   float64\n",
      " 7   ClickThroughRate     8000 non-null   float64\n",
      " 8   ConversionRate       8000 non-null   float64\n",
      " 9   WebsiteVisits        8000 non-null   int64  \n",
      " 10  PagesPerVisit        8000 non-null   float64\n",
      " 11  TimeOnSite           8000 non-null   float64\n",
      " 12  SocialShares         8000 non-null   int64  \n",
      " 13  EmailOpens           8000 non-null   int64  \n",
      " 14  EmailClicks          8000 non-null   int64  \n",
      " 15  PreviousPurchases    8000 non-null   int64  \n",
      " 16  LoyaltyPoints        8000 non-null   int64  \n",
      " 17  AdvertisingPlatform  8000 non-null   object \n",
      " 18  AdvertisingTool      8000 non-null   object \n",
      " 19  Conversion           8000 non-null   int64  \n",
      "dtypes: float64(5), int64(10), object(5)\n",
      "memory usage: 1.2+ MB\n"
     ]
    }
   ],
   "source": [
    "df.info()"
   ]
  },
  {
   "cell_type": "markdown",
   "metadata": {},
   "source": [
    "### Preprocessing"
   ]
  },
  {
   "cell_type": "markdown",
   "metadata": {},
   "source": [
    "#### Dropping irrelevant columns"
   ]
  },
  {
   "cell_type": "code",
   "execution_count": 28,
   "metadata": {},
   "outputs": [],
   "source": [
    "# Drop AdvertisingPlatform , AdvertisingTool\n",
    "df.drop(columns=['AdvertisingPlatform', 'AdvertisingTool'], inplace=True)"
   ]
  },
  {
   "cell_type": "markdown",
   "metadata": {},
   "source": [
    "#### Split data"
   ]
  },
  {
   "cell_type": "code",
   "execution_count": 126,
   "metadata": {},
   "outputs": [
    {
     "data": {
      "text/html": [
       "<div>\n",
       "<style scoped>\n",
       "    .dataframe tbody tr th:only-of-type {\n",
       "        vertical-align: middle;\n",
       "    }\n",
       "\n",
       "    .dataframe tbody tr th {\n",
       "        vertical-align: top;\n",
       "    }\n",
       "\n",
       "    .dataframe thead th {\n",
       "        text-align: right;\n",
       "    }\n",
       "</style>\n",
       "<table border=\"1\" class=\"dataframe\">\n",
       "  <thead>\n",
       "    <tr style=\"text-align: right;\">\n",
       "      <th></th>\n",
       "      <th>Age</th>\n",
       "      <th>Gender</th>\n",
       "      <th>Income</th>\n",
       "      <th>CampaignChannel</th>\n",
       "      <th>CampaignType</th>\n",
       "      <th>AdSpend</th>\n",
       "      <th>ClickThroughRate</th>\n",
       "      <th>ConversionRate</th>\n",
       "      <th>WebsiteVisits</th>\n",
       "      <th>PagesPerVisit</th>\n",
       "      <th>TimeOnSite</th>\n",
       "      <th>SocialShares</th>\n",
       "      <th>EmailOpens</th>\n",
       "      <th>EmailClicks</th>\n",
       "      <th>PreviousPurchases</th>\n",
       "      <th>LoyaltyPoints</th>\n",
       "      <th>AdvertisingPlatform</th>\n",
       "      <th>AdvertisingTool</th>\n",
       "    </tr>\n",
       "  </thead>\n",
       "  <tbody>\n",
       "    <tr>\n",
       "      <th>0</th>\n",
       "      <td>56</td>\n",
       "      <td>Female</td>\n",
       "      <td>136912</td>\n",
       "      <td>Social Media</td>\n",
       "      <td>Awareness</td>\n",
       "      <td>6497.870068</td>\n",
       "      <td>0.043919</td>\n",
       "      <td>0.088031</td>\n",
       "      <td>0</td>\n",
       "      <td>2.399017</td>\n",
       "      <td>7.396803</td>\n",
       "      <td>19</td>\n",
       "      <td>6</td>\n",
       "      <td>9</td>\n",
       "      <td>4</td>\n",
       "      <td>688</td>\n",
       "      <td>IsConfid</td>\n",
       "      <td>ToolConfid</td>\n",
       "    </tr>\n",
       "    <tr>\n",
       "      <th>1</th>\n",
       "      <td>69</td>\n",
       "      <td>Male</td>\n",
       "      <td>41760</td>\n",
       "      <td>Email</td>\n",
       "      <td>Retention</td>\n",
       "      <td>3898.668606</td>\n",
       "      <td>0.155725</td>\n",
       "      <td>0.182725</td>\n",
       "      <td>42</td>\n",
       "      <td>2.917138</td>\n",
       "      <td>5.352549</td>\n",
       "      <td>5</td>\n",
       "      <td>2</td>\n",
       "      <td>7</td>\n",
       "      <td>2</td>\n",
       "      <td>3459</td>\n",
       "      <td>IsConfid</td>\n",
       "      <td>ToolConfid</td>\n",
       "    </tr>\n",
       "    <tr>\n",
       "      <th>2</th>\n",
       "      <td>46</td>\n",
       "      <td>Female</td>\n",
       "      <td>88456</td>\n",
       "      <td>PPC</td>\n",
       "      <td>Awareness</td>\n",
       "      <td>1546.429596</td>\n",
       "      <td>0.277490</td>\n",
       "      <td>0.076423</td>\n",
       "      <td>2</td>\n",
       "      <td>8.223619</td>\n",
       "      <td>13.794901</td>\n",
       "      <td>0</td>\n",
       "      <td>11</td>\n",
       "      <td>2</td>\n",
       "      <td>8</td>\n",
       "      <td>2337</td>\n",
       "      <td>IsConfid</td>\n",
       "      <td>ToolConfid</td>\n",
       "    </tr>\n",
       "    <tr>\n",
       "      <th>3</th>\n",
       "      <td>32</td>\n",
       "      <td>Female</td>\n",
       "      <td>44085</td>\n",
       "      <td>PPC</td>\n",
       "      <td>Conversion</td>\n",
       "      <td>539.525936</td>\n",
       "      <td>0.137611</td>\n",
       "      <td>0.088004</td>\n",
       "      <td>47</td>\n",
       "      <td>4.540939</td>\n",
       "      <td>14.688363</td>\n",
       "      <td>89</td>\n",
       "      <td>2</td>\n",
       "      <td>2</td>\n",
       "      <td>0</td>\n",
       "      <td>2463</td>\n",
       "      <td>IsConfid</td>\n",
       "      <td>ToolConfid</td>\n",
       "    </tr>\n",
       "    <tr>\n",
       "      <th>4</th>\n",
       "      <td>60</td>\n",
       "      <td>Female</td>\n",
       "      <td>83964</td>\n",
       "      <td>PPC</td>\n",
       "      <td>Conversion</td>\n",
       "      <td>1678.043573</td>\n",
       "      <td>0.252851</td>\n",
       "      <td>0.109940</td>\n",
       "      <td>0</td>\n",
       "      <td>2.046847</td>\n",
       "      <td>13.993370</td>\n",
       "      <td>6</td>\n",
       "      <td>6</td>\n",
       "      <td>6</td>\n",
       "      <td>8</td>\n",
       "      <td>4345</td>\n",
       "      <td>IsConfid</td>\n",
       "      <td>ToolConfid</td>\n",
       "    </tr>\n",
       "    <tr>\n",
       "      <th>...</th>\n",
       "      <td>...</td>\n",
       "      <td>...</td>\n",
       "      <td>...</td>\n",
       "      <td>...</td>\n",
       "      <td>...</td>\n",
       "      <td>...</td>\n",
       "      <td>...</td>\n",
       "      <td>...</td>\n",
       "      <td>...</td>\n",
       "      <td>...</td>\n",
       "      <td>...</td>\n",
       "      <td>...</td>\n",
       "      <td>...</td>\n",
       "      <td>...</td>\n",
       "      <td>...</td>\n",
       "      <td>...</td>\n",
       "      <td>...</td>\n",
       "      <td>...</td>\n",
       "    </tr>\n",
       "    <tr>\n",
       "      <th>7995</th>\n",
       "      <td>21</td>\n",
       "      <td>Male</td>\n",
       "      <td>24849</td>\n",
       "      <td>Email</td>\n",
       "      <td>Awareness</td>\n",
       "      <td>8518.308575</td>\n",
       "      <td>0.243792</td>\n",
       "      <td>0.116773</td>\n",
       "      <td>23</td>\n",
       "      <td>9.693602</td>\n",
       "      <td>14.227794</td>\n",
       "      <td>70</td>\n",
       "      <td>13</td>\n",
       "      <td>6</td>\n",
       "      <td>7</td>\n",
       "      <td>286</td>\n",
       "      <td>IsConfid</td>\n",
       "      <td>ToolConfid</td>\n",
       "    </tr>\n",
       "    <tr>\n",
       "      <th>7996</th>\n",
       "      <td>43</td>\n",
       "      <td>Female</td>\n",
       "      <td>44718</td>\n",
       "      <td>SEO</td>\n",
       "      <td>Retention</td>\n",
       "      <td>1424.613446</td>\n",
       "      <td>0.236740</td>\n",
       "      <td>0.190061</td>\n",
       "      <td>49</td>\n",
       "      <td>9.499010</td>\n",
       "      <td>3.501106</td>\n",
       "      <td>52</td>\n",
       "      <td>13</td>\n",
       "      <td>1</td>\n",
       "      <td>5</td>\n",
       "      <td>1502</td>\n",
       "      <td>IsConfid</td>\n",
       "      <td>ToolConfid</td>\n",
       "    </tr>\n",
       "    <tr>\n",
       "      <th>7997</th>\n",
       "      <td>28</td>\n",
       "      <td>Female</td>\n",
       "      <td>125471</td>\n",
       "      <td>Referral</td>\n",
       "      <td>Consideration</td>\n",
       "      <td>4609.534635</td>\n",
       "      <td>0.056526</td>\n",
       "      <td>0.133826</td>\n",
       "      <td>35</td>\n",
       "      <td>2.853241</td>\n",
       "      <td>14.618323</td>\n",
       "      <td>38</td>\n",
       "      <td>16</td>\n",
       "      <td>0</td>\n",
       "      <td>3</td>\n",
       "      <td>738</td>\n",
       "      <td>IsConfid</td>\n",
       "      <td>ToolConfid</td>\n",
       "    </tr>\n",
       "    <tr>\n",
       "      <th>7998</th>\n",
       "      <td>19</td>\n",
       "      <td>Female</td>\n",
       "      <td>107862</td>\n",
       "      <td>PPC</td>\n",
       "      <td>Consideration</td>\n",
       "      <td>9476.106354</td>\n",
       "      <td>0.023961</td>\n",
       "      <td>0.138386</td>\n",
       "      <td>49</td>\n",
       "      <td>1.002964</td>\n",
       "      <td>3.876623</td>\n",
       "      <td>86</td>\n",
       "      <td>1</td>\n",
       "      <td>5</td>\n",
       "      <td>7</td>\n",
       "      <td>2709</td>\n",
       "      <td>IsConfid</td>\n",
       "      <td>ToolConfid</td>\n",
       "    </tr>\n",
       "    <tr>\n",
       "      <th>7999</th>\n",
       "      <td>31</td>\n",
       "      <td>Female</td>\n",
       "      <td>93002</td>\n",
       "      <td>Email</td>\n",
       "      <td>Awareness</td>\n",
       "      <td>7743.627070</td>\n",
       "      <td>0.185670</td>\n",
       "      <td>0.057228</td>\n",
       "      <td>15</td>\n",
       "      <td>6.964739</td>\n",
       "      <td>12.763660</td>\n",
       "      <td>2</td>\n",
       "      <td>18</td>\n",
       "      <td>9</td>\n",
       "      <td>9</td>\n",
       "      <td>341</td>\n",
       "      <td>IsConfid</td>\n",
       "      <td>ToolConfid</td>\n",
       "    </tr>\n",
       "  </tbody>\n",
       "</table>\n",
       "<p>8000 rows × 18 columns</p>\n",
       "</div>"
      ],
      "text/plain": [
       "      Age  Gender  Income CampaignChannel   CampaignType      AdSpend  \\\n",
       "0      56  Female  136912    Social Media      Awareness  6497.870068   \n",
       "1      69    Male   41760           Email      Retention  3898.668606   \n",
       "2      46  Female   88456             PPC      Awareness  1546.429596   \n",
       "3      32  Female   44085             PPC     Conversion   539.525936   \n",
       "4      60  Female   83964             PPC     Conversion  1678.043573   \n",
       "...   ...     ...     ...             ...            ...          ...   \n",
       "7995   21    Male   24849           Email      Awareness  8518.308575   \n",
       "7996   43  Female   44718             SEO      Retention  1424.613446   \n",
       "7997   28  Female  125471        Referral  Consideration  4609.534635   \n",
       "7998   19  Female  107862             PPC  Consideration  9476.106354   \n",
       "7999   31  Female   93002           Email      Awareness  7743.627070   \n",
       "\n",
       "      ClickThroughRate  ConversionRate  WebsiteVisits  PagesPerVisit  \\\n",
       "0             0.043919        0.088031              0       2.399017   \n",
       "1             0.155725        0.182725             42       2.917138   \n",
       "2             0.277490        0.076423              2       8.223619   \n",
       "3             0.137611        0.088004             47       4.540939   \n",
       "4             0.252851        0.109940              0       2.046847   \n",
       "...                ...             ...            ...            ...   \n",
       "7995          0.243792        0.116773             23       9.693602   \n",
       "7996          0.236740        0.190061             49       9.499010   \n",
       "7997          0.056526        0.133826             35       2.853241   \n",
       "7998          0.023961        0.138386             49       1.002964   \n",
       "7999          0.185670        0.057228             15       6.964739   \n",
       "\n",
       "      TimeOnSite  SocialShares  EmailOpens  EmailClicks  PreviousPurchases  \\\n",
       "0       7.396803            19           6            9                  4   \n",
       "1       5.352549             5           2            7                  2   \n",
       "2      13.794901             0          11            2                  8   \n",
       "3      14.688363            89           2            2                  0   \n",
       "4      13.993370             6           6            6                  8   \n",
       "...          ...           ...         ...          ...                ...   \n",
       "7995   14.227794            70          13            6                  7   \n",
       "7996    3.501106            52          13            1                  5   \n",
       "7997   14.618323            38          16            0                  3   \n",
       "7998    3.876623            86           1            5                  7   \n",
       "7999   12.763660             2          18            9                  9   \n",
       "\n",
       "      LoyaltyPoints AdvertisingPlatform AdvertisingTool  \n",
       "0               688            IsConfid      ToolConfid  \n",
       "1              3459            IsConfid      ToolConfid  \n",
       "2              2337            IsConfid      ToolConfid  \n",
       "3              2463            IsConfid      ToolConfid  \n",
       "4              4345            IsConfid      ToolConfid  \n",
       "...             ...                 ...             ...  \n",
       "7995            286            IsConfid      ToolConfid  \n",
       "7996           1502            IsConfid      ToolConfid  \n",
       "7997            738            IsConfid      ToolConfid  \n",
       "7998           2709            IsConfid      ToolConfid  \n",
       "7999            341            IsConfid      ToolConfid  \n",
       "\n",
       "[8000 rows x 18 columns]"
      ]
     },
     "execution_count": 126,
     "metadata": {},
     "output_type": "execute_result"
    }
   ],
   "source": [
    "# define target and feature variables\n",
    "y = df['Conversion']\n",
    "X = df.drop(columns=['Conversion', 'CustomerID'], axis=1)\n",
    "\n",
    "X"
   ]
  },
  {
   "cell_type": "markdown",
   "metadata": {},
   "source": [
    "#### Split Categotical and Numerical columns"
   ]
  },
  {
   "cell_type": "code",
   "execution_count": 127,
   "metadata": {},
   "outputs": [
    {
     "data": {
      "text/plain": [
       "Index(['Gender', 'CampaignChannel', 'CampaignType', 'AdvertisingPlatform',\n",
       "       'AdvertisingTool'],\n",
       "      dtype='object')"
      ]
     },
     "execution_count": 127,
     "metadata": {},
     "output_type": "execute_result"
    }
   ],
   "source": [
    "# cat and num cols\n",
    "num_cols = X.select_dtypes(exclude='object').columns\n",
    "\n",
    "# categorical\n",
    "cat_cols = X.select_dtypes(include='object').columns\n",
    "cat_cols"
   ]
  },
  {
   "cell_type": "code",
   "execution_count": 128,
   "metadata": {},
   "outputs": [],
   "source": [
    "# split the data\n",
    "X_train, X_test, y_train, y_test = train_test_split(X, y, test_size=0.2, random_state=42)"
   ]
  },
  {
   "cell_type": "markdown",
   "metadata": {},
   "source": [
    "#### One Hot Encoding and Scaling Pipelines"
   ]
  },
  {
   "cell_type": "code",
   "execution_count": 131,
   "metadata": {},
   "outputs": [],
   "source": [
    "# pipelines \n",
    "# ohe pipe\n",
    "cat_vals = Pipeline([\n",
    "    (\"ohe\", OneHotEncoder(sparse_output=False, drop='first')),\n",
    "])\n",
    "\n",
    "# num values\n",
    "# scaler pipe\n",
    "num_vals = Pipeline([\n",
    "    (\"scale\", MinMaxScaler())\n",
    "])"
   ]
  },
  {
   "cell_type": "code",
   "execution_count": 134,
   "metadata": {},
   "outputs": [],
   "source": [
    "# column transformer, contains ohe and scaler \n",
    "preprocess = ColumnTransformer(\n",
    "    transformers = [\n",
    "        (\"cat_process\", cat_vals, cat_cols),\n",
    "        (\"num_process\", num_vals, num_cols)\n",
    "    ]\n",
    ")"
   ]
  },
  {
   "cell_type": "markdown",
   "metadata": {},
   "source": [
    "### Model Iterations"
   ]
  },
  {
   "cell_type": "markdown",
   "metadata": {},
   "source": [
    "Created many models for this project. The vanilla model <code>Logistic Model</code> was used as the baseline. Other models built <code>DecisionTreeClassifier</code> and <code>XGBOOST</code>. The models were modelled with and without smote to counteract class imblance."
   ]
  },
  {
   "cell_type": "markdown",
   "metadata": {},
   "source": [
    "#### Vanilla model"
   ]
  },
  {
   "cell_type": "markdown",
   "metadata": {},
   "source": [
    "##### Logistic Regression Model"
   ]
  },
  {
   "cell_type": "code",
   "execution_count": 135,
   "metadata": {},
   "outputs": [],
   "source": [
    "# pipeline with preprocess and Logreg model\n",
    "\n",
    "pipe_logreg = Pipeline([\n",
    "    (\"preprocess\", preprocess),\n",
    "    (\"logreg\", LogisticRegression(fit_intercept=False, C=1e12, solver='liblinear'))\n",
    "])"
   ]
  },
  {
   "cell_type": "code",
   "execution_count": 136,
   "metadata": {},
   "outputs": [],
   "source": [
    "def fit_results(pipe, X_train, X_test, y_train, y_test):\n",
    "\n",
    "    \"\"\" \n",
    "    Function fits pipeline on train data and returns model \n",
    "    metrics\n",
    "    \"\"\"\n",
    "    # fit pipeline on train data\n",
    "    pipe.fit(X_train, y_train)\n",
    "    y_hat_train = pipe.predict(X_train)\n",
    "    y_hat_test = pipe.predict(X_test)\n",
    "\n",
    "    # scores\n",
    "    # Get accuracy for train and test\n",
    "    train_accuracy = accuracy_score(y_train, y_hat_train)\n",
    "    test_accuracy = accuracy_score(y_test, y_hat_test)\n",
    "\n",
    "    print(f\"Train Accuracy: {train_accuracy:.2f}, Test Accuracy: {test_accuracy:.2f}\")\n",
    "    print(\"------------------------------------\")\n",
    "\n",
    "    # Create a confusion matrix\n",
    "    print(\"Confusion Matrix\")\n",
    "    cnf_matrix = confusion_matrix(y_test, y_hat_test)\n",
    "    disp = ConfusionMatrixDisplay(confusion_matrix=cnf_matrix)\n",
    "    disp.plot()\n",
    "    plt.show()\n",
    "\n",
    "    # Get classification report\n",
    "    report = classification_report(y_test, y_hat_test, target_names=['No', 'Yes'])\n",
    "    print(\"Classification Report\")\n",
    "    print(\"------------------------------------\")\n",
    "    print(report)"
   ]
  },
  {
   "cell_type": "code",
   "execution_count": 36,
   "metadata": {},
   "outputs": [],
   "source": [
    "# define a model function\n",
    "\n",
    "def logmodel(X_train, X_test, y_train, y_test):\n",
    "    \"\"\"\n",
    "    Function to train a logistic regression model, predict on train and test data, \n",
    "    and evaluate the model performance.\n",
    "    \"\"\"\n",
    "    # Initiate the logistic regression model\n",
    "    logreg = LogisticRegression(fit_intercept=False, C=1e12, solver='liblinear')\n",
    "\n",
    "    # Fit the model\n",
    "    logreg.fit(X_train, y_train)\n",
    "     \n",
    "    # Predictions on training and testing data\n",
    "    y_hat_train = logreg.predict(X_train)\n",
    "    y_hat_test = logreg.predict(X_test)\n",
    "\n",
    "    # Model evaluation\n",
    "    \n",
    "    # Get accuracy for train and test\n",
    "    train_accuracy = accuracy_score(y_train, y_hat_train)\n",
    "    test_accuracy = accuracy_score(y_test, y_hat_test)\n",
    "\n",
    "    print(f\"Train Accuracy: {train_accuracy:.2f}, Test Accuracy: {test_accuracy:.2f}\")\n",
    "    print(\"------------------------------------\")\n",
    "    \n",
    "    # Create a confusion matrix\n",
    "    print(\"Confusion Matrix\")\n",
    "    cnf_matrix = confusion_matrix(y_test, y_hat_test)\n",
    "    disp = ConfusionMatrixDisplay(confusion_matrix=cnf_matrix)\n",
    "    disp.plot()\n",
    "    plt.show()\n",
    "    \n",
    "    # Get classification report\n",
    "    report = classification_report(y_test, y_hat_test, target_names=['No', 'Yes'])\n",
    "\n",
    "    print(\"Classification Report\")\n",
    "    print(\"------------------------------------\")\n",
    "    print(report)\n",
    "    \n",
    "    return logreg"
   ]
  },
  {
   "cell_type": "code",
   "execution_count": 137,
   "metadata": {},
   "outputs": [
    {
     "name": "stdout",
     "output_type": "stream",
     "text": [
      "Train Accuracy: 0.88, Test Accuracy: 0.88\n",
      "------------------------------------\n",
      "Confusion Matrix\n"
     ]
    },
    {
     "data": {
      "image/png": "[encoded data removed]",
      "text/plain": [
       "<Figure size 640x480 with 2 Axes>"
      ]
     },
     "metadata": {},
     "output_type": "display_data"
    },
    {
     "name": "stdout",
     "output_type": "stream",
     "text": [
      "Classification Report\n",
      "------------------------------------\n",
      "              precision    recall  f1-score   support\n",
      "\n",
      "          No       0.67      0.02      0.04       194\n",
      "         Yes       0.88      1.00      0.94      1406\n",
      "\n",
      "    accuracy                           0.88      1600\n",
      "   macro avg       0.77      0.51      0.49      1600\n",
      "weighted avg       0.85      0.88      0.83      1600\n",
      "\n"
     ]
    }
   ],
   "source": [
    "# base model\n",
    "fit_results(pipe_logreg, X_train, X_test, y_train, y_test)"
   ]
  },
  {
   "cell_type": "markdown",
   "metadata": {},
   "source": [
    "This may be attributed to class imbalance    'Target distribution' \n",
    "\n",
    "                                        Conversion\n",
    "                                        1    7012\n",
    "                                        0     988"
   ]
  },
  {
   "cell_type": "markdown",
   "metadata": {},
   "source": [
    "Given the business context of optimizing campaign conversions:\n",
    "\n",
    "**High Recall** is crucial since you want to capture as many potential conversions as possible.\n",
    "\n",
    "**Precision** is also important to ensure that resources are not wasted on users unlikely to convert.\n",
    "\n",
    "\n",
    "Thus, balancing between precision and recall while reducing false positives would help allocate marketing resources more effectively and improve overall campaign efficiency."
   ]
  },
  {
   "cell_type": "markdown",
   "metadata": {},
   "source": [
    "#### Logistic Regression - iteration #1"
   ]
  },
  {
   "cell_type": "markdown",
   "metadata": {},
   "source": [
    "For the first iteration of the logistic regression model, **SMOTE** is incorporated in an attempt to address class imbalance"
   ]
  },
  {
   "cell_type": "code",
   "execution_count": 141,
   "metadata": {},
   "outputs": [],
   "source": [
    "#iteration 1\n",
    "# applied smote\n",
    "\n",
    "pipe_logreg_smote = ImbPipeline([\n",
    "    (\"preprocess\", preprocess),\n",
    "    (\"smote\", SMOTE(random_state=42)),\n",
    "    (\"logreg\", LogisticRegression(fit_intercept=False, C=1e12, solver='liblinear'))\n",
    "])"
   ]
  },
  {
   "cell_type": "code",
   "execution_count": 142,
   "metadata": {},
   "outputs": [
    {
     "name": "stdout",
     "output_type": "stream",
     "text": [
      "Train Accuracy: 0.70, Test Accuracy: 0.68\n",
      "------------------------------------\n",
      "Confusion Matrix\n"
     ]
    },
    {
     "data": {
      "image/png": "[encoded data removed]",
      "text/plain": [
       "<Figure size 640x480 with 2 Axes>"
      ]
     },
     "metadata": {},
     "output_type": "display_data"
    },
    {
     "name": "stdout",
     "output_type": "stream",
     "text": [
      "Classification Report\n",
      "------------------------------------\n",
      "              precision    recall  f1-score   support\n",
      "\n",
      "          No       0.19      0.52      0.28       194\n",
      "         Yes       0.91      0.71      0.80      1406\n",
      "\n",
      "    accuracy                           0.68      1600\n",
      "   macro avg       0.55      0.61      0.54      1600\n",
      "weighted avg       0.83      0.68      0.73      1600\n",
      "\n"
     ]
    }
   ],
   "source": [
    "# smote model\n",
    "fit_results(pipe_logreg_smote, X_train, X_test, y_train, y_test)"
   ]
  },
  {
   "cell_type": "markdown",
   "metadata": {},
   "source": [
    "Impact of SMOTE:\n",
    "- Reduction in False Negatives: Before using SMOTE, there were fewer False Negatives because the model was biased towards predicting the majority class (likely 'No Conversion'). After applying SMOTE, the model was exposed to a balanced dataset, which increased its ability to predict 'Conversion'. However, while it increased sensitivity (recall), it also increased the number of False Positives."
   ]
  },
  {
   "cell_type": "markdown",
   "metadata": {},
   "source": [
    "#### Logistic Regression - iteration #2"
   ]
  },
  {
   "cell_type": "markdown",
   "metadata": {},
   "source": [
    "In an attempt to optimize performance of the models, looked at the feature importances and narrowed the features based on the results.\n",
    "Incorporated Filter Method as a feature selection method. Firstly used the filter method and then SMOTE so as to apply SMOTE on the relevant features and avoid any potential bias introduced by synthetic samples during feature selection."
   ]
  },
  {
   "cell_type": "code",
   "execution_count": 143,
   "metadata": {},
   "outputs": [],
   "source": [
    "### iteration 2 \n",
    "## feature selection(filter method) and smote\n",
    "\n",
    "pipe_logreg_smote_feature = ImbPipeline([\n",
    "    (\"preprocess\", preprocess), # preprocessing\n",
    "    (\"feature_selection\", SelectKBest(score_func = mutual_info_classif)), # Feature Selection\n",
    "    (\"smote\", SMOTE(random_state=42)), # SMOTE\n",
    "    (\"logreg\", LogisticRegression(fit_intercept=False, C=1e12, solver='liblinear')) # MODEL\n",
    "])"
   ]
  },
  {
   "cell_type": "code",
   "execution_count": 144,
   "metadata": {},
   "outputs": [
    {
     "name": "stdout",
     "output_type": "stream",
     "text": [
      "Train Accuracy: 0.73, Test Accuracy: 0.72\n",
      "------------------------------------\n",
      "Confusion Matrix\n"
     ]
    },
    {
     "data": {
      "image/png": "[encoded data removed]",
      "text/plain": [
       "<Figure size 640x480 with 2 Axes>"
      ]
     },
     "metadata": {},
     "output_type": "display_data"
    },
    {
     "name": "stdout",
     "output_type": "stream",
     "text": [
      "Classification Report\n",
      "------------------------------------\n",
      "              precision    recall  f1-score   support\n",
      "\n",
      "          No       0.15      0.27      0.19       194\n",
      "         Yes       0.89      0.78      0.83      1406\n",
      "\n",
      "    accuracy                           0.72      1600\n",
      "   macro avg       0.52      0.53      0.51      1600\n",
      "weighted avg       0.80      0.72      0.75      1600\n",
      "\n"
     ]
    }
   ],
   "source": [
    "# model after smote and feature selection\n",
    "fit_results(pipe_logreg_smote_feature, X_train, X_test, y_train, y_test)"
   ]
  },
  {
   "cell_type": "markdown",
   "metadata": {},
   "source": [
    "The precision and recall are still very low for \"No\" class(0). \n",
    "The Model is still finding it difficult to classify \"No\": customers who do not convert. \n"
   ]
  },
  {
   "cell_type": "markdown",
   "metadata": {},
   "source": [
    "#### DECISION TREE"
   ]
  },
  {
   "cell_type": "markdown",
   "metadata": {},
   "source": [
    "##### Decision Tree - Iteration #1"
   ]
  },
  {
   "cell_type": "markdown",
   "metadata": {},
   "source": [
    "For the first Decision Tree model, preprocessed data was used before SMOTE"
   ]
  },
  {
   "cell_type": "code",
   "execution_count": 145,
   "metadata": {},
   "outputs": [],
   "source": [
    "# DECISION TREE\n",
    "\n",
    "pipe_dt = Pipeline([\n",
    "    (\"preprocess\", preprocess),\n",
    "    (\"decisiontree\", DecisionTreeClassifier(criterion='entropy', random_state=42))\n",
    "])\n"
   ]
  },
  {
   "cell_type": "code",
   "execution_count": 146,
   "metadata": {},
   "outputs": [
    {
     "name": "stdout",
     "output_type": "stream",
     "text": [
      "Train Accuracy: 1.00, Test Accuracy: 0.84\n",
      "------------------------------------\n",
      "Confusion Matrix\n"
     ]
    },
    {
     "data": {
      "image/png": "[encoded data removed]",
      "text/plain": [
       "<Figure size 640x480 with 2 Axes>"
      ]
     },
     "metadata": {},
     "output_type": "display_data"
    },
    {
     "name": "stdout",
     "output_type": "stream",
     "text": [
      "Classification Report\n",
      "------------------------------------\n",
      "              precision    recall  f1-score   support\n",
      "\n",
      "          No       0.37      0.43      0.40       194\n",
      "         Yes       0.92      0.90      0.91      1406\n",
      "\n",
      "    accuracy                           0.84      1600\n",
      "   macro avg       0.65      0.67      0.65      1600\n",
      "weighted avg       0.85      0.84      0.85      1600\n",
      "\n"
     ]
    }
   ],
   "source": [
    "# results for DT\n",
    "fit_results(pipe_dt, X_train, X_test, y_train, y_test)"
   ]
  },
  {
   "cell_type": "markdown",
   "metadata": {},
   "source": [
    "The model may suggest overfitting as it has a perfect train accuracy(100%) and a lower test accuracy(83%).   \n",
    "An improved recall of 42% was observed."
   ]
  },
  {
   "cell_type": "markdown",
   "metadata": {},
   "source": [
    "##### Decision Tree - iteration #2"
   ]
  },
  {
   "cell_type": "markdown",
   "metadata": {},
   "source": [
    "Applied SMOTE on this decision tree iteration. To counter class imbalance"
   ]
  },
  {
   "cell_type": "code",
   "execution_count": 148,
   "metadata": {},
   "outputs": [],
   "source": [
    "# DT Iteration 2\n",
    "# smote\n",
    "\n",
    "pipe_dt_smote = ImbPipeline([\n",
    "    (\"preprocess\", preprocess), # preprocess\n",
    "    (\"smote\", SMOTE(random_state=42)), # smote\n",
    "    (\"decisiontree\", DecisionTreeClassifier(criterion='entropy', random_state=42))\n",
    "])"
   ]
  },
  {
   "cell_type": "code",
   "execution_count": 149,
   "metadata": {},
   "outputs": [
    {
     "name": "stdout",
     "output_type": "stream",
     "text": [
      "Train Accuracy: 1.00, Test Accuracy: 0.80\n",
      "------------------------------------\n",
      "Confusion Matrix\n"
     ]
    },
    {
     "data": {
      "image/png": "[encoded data removed]",
      "text/plain": [
       "<Figure size 640x480 with 2 Axes>"
      ]
     },
     "metadata": {},
     "output_type": "display_data"
    },
    {
     "name": "stdout",
     "output_type": "stream",
     "text": [
      "Classification Report\n",
      "------------------------------------\n",
      "              precision    recall  f1-score   support\n",
      "\n",
      "          No       0.27      0.41      0.33       194\n",
      "         Yes       0.91      0.85      0.88      1406\n",
      "\n",
      "    accuracy                           0.80      1600\n",
      "   macro avg       0.59      0.63      0.60      1600\n",
      "weighted avg       0.83      0.80      0.81      1600\n",
      "\n"
     ]
    }
   ],
   "source": [
    "fit_results(pipe_dt_smote, X_train, X_test, y_train, y_test)"
   ]
  },
  {
   "cell_type": "markdown",
   "metadata": {},
   "source": [
    "The model seems to overfit"
   ]
  },
  {
   "cell_type": "markdown",
   "metadata": {},
   "source": [
    "##### Decision Tree - Iteration #3"
   ]
  },
  {
   "cell_type": "markdown",
   "metadata": {},
   "source": [
    "Incorporated Feature selection method "
   ]
  },
  {
   "cell_type": "code",
   "execution_count": 150,
   "metadata": {},
   "outputs": [],
   "source": [
    "# DT Iteration 3\n",
    "# feature selection and smote\n",
    "\n",
    "pipe_dt_smote_feature = ImbPipeline([\n",
    "    (\"preprocess\", preprocess), # preprocess\n",
    "    (\"feature_selection\", SelectKBest(score_func=mutual_info_classif)), # feature selection\n",
    "    (\"smote\", SMOTE(random_state=42)), # SMOTE\n",
    "    (\"decisiontree\", DecisionTreeClassifier(criterion='entropy', random_state=42)) #MODEL\n",
    "])"
   ]
  },
  {
   "cell_type": "code",
   "execution_count": 151,
   "metadata": {},
   "outputs": [
    {
     "name": "stdout",
     "output_type": "stream",
     "text": [
      "Train Accuracy: 1.00, Test Accuracy: 0.80\n",
      "------------------------------------\n",
      "Confusion Matrix\n"
     ]
    },
    {
     "data": {
      "image/png": "[encoded data removed]",
      "text/plain": [
       "<Figure size 640x480 with 2 Axes>"
      ]
     },
     "metadata": {},
     "output_type": "display_data"
    },
    {
     "name": "stdout",
     "output_type": "stream",
     "text": [
      "Classification Report\n",
      "------------------------------------\n",
      "              precision    recall  f1-score   support\n",
      "\n",
      "          No       0.28      0.44      0.34       194\n",
      "         Yes       0.92      0.85      0.88      1406\n",
      "\n",
      "    accuracy                           0.80      1600\n",
      "   macro avg       0.60      0.64      0.61      1600\n",
      "weighted avg       0.84      0.80      0.81      1600\n",
      "\n"
     ]
    }
   ],
   "source": [
    "fit_results(pipe_dt_smote_feature, X_train, X_test, y_train, y_test)"
   ]
  },
  {
   "cell_type": "markdown",
   "metadata": {},
   "source": [
    "The model is still overfitting, the model is not performing very well"
   ]
  },
  {
   "cell_type": "markdown",
   "metadata": {},
   "source": [
    "#### XGBOOST\n",
    "\n",
    "XGBoost is an implementation of gradient boosted decision trees designed for speed and performance. Basically, decision trees on steroids"
   ]
  },
  {
   "cell_type": "markdown",
   "metadata": {},
   "source": [
    "##### XGBOOST - Iteration #1"
   ]
  },
  {
   "cell_type": "markdown",
   "metadata": {},
   "source": [
    "Apply XGBOOST on the preprocessed data without modification"
   ]
  },
  {
   "cell_type": "code",
   "execution_count": 152,
   "metadata": {},
   "outputs": [],
   "source": [
    "# XGBOOST\n",
    "\n",
    "pipe_xgboost = Pipeline([\n",
    "    (\"preprocess\", preprocess), # preprocess\n",
    "    (\"xgboost\", XGBClassifier(objective='binary:logistic', random_state=42))\n",
    "])"
   ]
  },
  {
   "cell_type": "code",
   "execution_count": 153,
   "metadata": {},
   "outputs": [
    {
     "name": "stdout",
     "output_type": "stream",
     "text": [
      "Train Accuracy: 1.00, Test Accuracy: 0.92\n",
      "------------------------------------\n",
      "Confusion Matrix\n"
     ]
    },
    {
     "data": {
      "image/png": "[encoded data removed]",
      "text/plain": [
       "<Figure size 640x480 with 2 Axes>"
      ]
     },
     "metadata": {},
     "output_type": "display_data"
    },
    {
     "name": "stdout",
     "output_type": "stream",
     "text": [
      "Classification Report\n",
      "------------------------------------\n",
      "              precision    recall  f1-score   support\n",
      "\n",
      "          No       0.78      0.43      0.55       194\n",
      "         Yes       0.93      0.98      0.95      1406\n",
      "\n",
      "    accuracy                           0.92      1600\n",
      "   macro avg       0.85      0.71      0.75      1600\n",
      "weighted avg       0.91      0.92      0.91      1600\n",
      "\n"
     ]
    }
   ],
   "source": [
    "# xgboost before smote and feature selection\n",
    "\n",
    "fit_results(pipe_xgboost, X_train, X_test, y_train, y_test)"
   ]
  },
  {
   "cell_type": "markdown",
   "metadata": {},
   "source": [
    "An improvement in the overall quality of the model. The model seems to generlize well on the data. An improved precision and recall for the 0 class"
   ]
  },
  {
   "cell_type": "markdown",
   "metadata": {},
   "source": [
    "##### XGBOOST - Iteration #2"
   ]
  },
  {
   "cell_type": "markdown",
   "metadata": {},
   "source": [
    "Using SMOTE"
   ]
  },
  {
   "cell_type": "code",
   "execution_count": 154,
   "metadata": {},
   "outputs": [],
   "source": [
    "# XGBOOST Iteration 2\n",
    "\n",
    "pipe_xgb_smote = ImbPipeline([\n",
    "    (\"preprocess\", preprocess), # preprocess\n",
    "    (\"smote\", SMOTE(random_state=42)), # smote\n",
    "    (\"xgboost\", XGBClassifier(objective='binary:logistic', random_state=42)) # model\n",
    "])"
   ]
  },
  {
   "cell_type": "code",
   "execution_count": 155,
   "metadata": {},
   "outputs": [
    {
     "name": "stdout",
     "output_type": "stream",
     "text": [
      "Train Accuracy: 1.00, Test Accuracy: 0.91\n",
      "------------------------------------\n",
      "Confusion Matrix\n"
     ]
    },
    {
     "data": {
      "image/png": "[encoded data removed]",
      "text/plain": [
       "<Figure size 640x480 with 2 Axes>"
      ]
     },
     "metadata": {},
     "output_type": "display_data"
    },
    {
     "name": "stdout",
     "output_type": "stream",
     "text": [
      "Classification Report\n",
      "------------------------------------\n",
      "              precision    recall  f1-score   support\n",
      "\n",
      "          No       0.67      0.43      0.53       194\n",
      "         Yes       0.93      0.97      0.95      1406\n",
      "\n",
      "    accuracy                           0.91      1600\n",
      "   macro avg       0.80      0.70      0.74      1600\n",
      "weighted avg       0.89      0.91      0.90      1600\n",
      "\n"
     ]
    }
   ],
   "source": [
    "fit_results(pipe_xgb_smote, X_train, X_test, y_train, y_test)"
   ]
  },
  {
   "cell_type": "markdown",
   "metadata": {},
   "source": [
    "SMOTE had a negative impact on its performance. "
   ]
  },
  {
   "cell_type": "markdown",
   "metadata": {},
   "source": [
    "##### XGBOOST - Iteration #3"
   ]
  },
  {
   "cell_type": "markdown",
   "metadata": {},
   "source": [
    "Apply feature selection without SMOTE"
   ]
  },
  {
   "cell_type": "code",
   "execution_count": 156,
   "metadata": {},
   "outputs": [],
   "source": [
    "## XGBOOST iTERATION 3\n",
    "# Feature selection without smote\n",
    "\n",
    "pipe_xgb_feature = Pipeline([\n",
    "    (\"preprocess\", preprocess), # preprocess\n",
    "    (\"feature_selection\", SelectKBest(score_func=mutual_info_classif)), # feature selection\n",
    "    (\"xgboost\", XGBClassifier(objective='binary:logistic', random_state=42))\n",
    "])"
   ]
  },
  {
   "cell_type": "code",
   "execution_count": 157,
   "metadata": {},
   "outputs": [
    {
     "name": "stdout",
     "output_type": "stream",
     "text": [
      "Train Accuracy: 1.00, Test Accuracy: 0.91\n",
      "------------------------------------\n",
      "Confusion Matrix\n"
     ]
    },
    {
     "data": {
      "image/png": "[encoded data removed]",
      "text/plain": [
       "<Figure size 640x480 with 2 Axes>"
      ]
     },
     "metadata": {},
     "output_type": "display_data"
    },
    {
     "name": "stdout",
     "output_type": "stream",
     "text": [
      "Classification Report\n",
      "------------------------------------\n",
      "              precision    recall  f1-score   support\n",
      "\n",
      "          No       0.74      0.42      0.54       194\n",
      "         Yes       0.92      0.98      0.95      1406\n",
      "\n",
      "    accuracy                           0.91      1600\n",
      "   macro avg       0.83      0.70      0.74      1600\n",
      "weighted avg       0.90      0.91      0.90      1600\n",
      "\n"
     ]
    }
   ],
   "source": [
    "fit_results(pipe_xgb_feature, X_train, X_test, y_train, y_test)"
   ]
  },
  {
   "cell_type": "markdown",
   "metadata": {},
   "source": [
    "This model is performing well, no overfitting\n"
   ]
  },
  {
   "cell_type": "markdown",
   "metadata": {},
   "source": [
    "##### XGBOOST - Iteration #4"
   ]
  },
  {
   "cell_type": "markdown",
   "metadata": {},
   "source": [
    "Adjusteed using feature selection methods and SMOTE"
   ]
  },
  {
   "cell_type": "code",
   "execution_count": 158,
   "metadata": {},
   "outputs": [],
   "source": [
    "#### XGBOOST Iteration 4\n",
    "# feature selection and SMOTE\n",
    "\n",
    "pipe_xgb_smote_feature = ImbPipeline([\n",
    "    (\"preprocess\", preprocess), # preprocess\n",
    "    (\"feature_selection\", SelectKBest(score_func=mutual_info_classif)), # feature selection\n",
    "    (\"smote\", SMOTE(random_state=42)), # smote\n",
    "    (\"xgboost\", XGBClassifier(objective='binary:logistic', random_state=42)) # model\n",
    "])"
   ]
  },
  {
   "cell_type": "code",
   "execution_count": 159,
   "metadata": {},
   "outputs": [
    {
     "name": "stdout",
     "output_type": "stream",
     "text": [
      "Train Accuracy: 0.99, Test Accuracy: 0.89\n",
      "------------------------------------\n",
      "Confusion Matrix\n"
     ]
    },
    {
     "data": {
      "image/png": "[encoded data removed]",
      "text/plain": [
       "<Figure size 640x480 with 2 Axes>"
      ]
     },
     "metadata": {},
     "output_type": "display_data"
    },
    {
     "name": "stdout",
     "output_type": "stream",
     "text": [
      "Classification Report\n",
      "------------------------------------\n",
      "              precision    recall  f1-score   support\n",
      "\n",
      "          No       0.56      0.40      0.47       194\n",
      "         Yes       0.92      0.96      0.94      1406\n",
      "\n",
      "    accuracy                           0.89      1600\n",
      "   macro avg       0.74      0.68      0.70      1600\n",
      "weighted avg       0.88      0.89      0.88      1600\n",
      "\n"
     ]
    }
   ],
   "source": [
    "fit_results(pipe_xgb_smote_feature, X_train, X_test, y_train, y_test)"
   ]
  },
  {
   "cell_type": "markdown",
   "metadata": {},
   "source": [
    "The model is performance reduced. "
   ]
  },
  {
   "cell_type": "markdown",
   "metadata": {},
   "source": [
    "##### XGBOOST - Iteration #5"
   ]
  },
  {
   "cell_type": "markdown",
   "metadata": {},
   "source": [
    "Since the first XGBOOST has the best performance, why not get the best parameters for it. Used Grid Search CV to get the best parameters."
   ]
  },
  {
   "cell_type": "code",
   "execution_count": 160,
   "metadata": {},
   "outputs": [
    {
     "name": "stdout",
     "output_type": "stream",
     "text": [
      "Best set of hyperparameters:  {'xgboost__learning_rate': 0.1, 'xgboost__max_depth': 3, 'xgboost__subsample': 0.7}\n",
      "Best score:  0.9203125\n"
     ]
    }
   ],
   "source": [
    "# GRID SEARCH CV for the best performing XGBOOST MODEL(iteration 1)\n",
    "# Define the hyperparameter grid\n",
    "param_grid = {\n",
    "    'xgboost__max_depth': [3, 5, 7],\n",
    "    'xgboost__learning_rate': [0.1, 0.01, 0.001],\n",
    "    'xgboost__subsample': [0.5, 0.7, 1]\n",
    "}\n",
    "\n",
    "# Create the GridSearchCV object\n",
    "grid_search = GridSearchCV(pipe_xgboost,param_grid=param_grid, cv=5, scoring='accuracy' )\n",
    "\n",
    "\n",
    "# Fit the GridSearchCV object to the training data\n",
    "grid_search.fit(X_train, y_train)\n",
    "\n",
    "# Print the best set of hyperparameters and the corresponding score\n",
    "print(\"Best set of hyperparameters: \", grid_search.best_params_)\n",
    "print(\"Best score: \", grid_search.best_score_)"
   ]
  },
  {
   "cell_type": "code",
   "execution_count": 161,
   "metadata": {},
   "outputs": [],
   "source": [
    "pipe_xgb_gridsearch = Pipeline([\n",
    "    (\"preprocess\", preprocess), # preprocess\n",
    "    (\"xgboost\", XGBClassifier(objective='binary:logistic', random_state=42,\n",
    "                          learning_rate=0.1,\n",
    "                          max_depth=3,\n",
    "                          subsample=0.7))\n",
    "])"
   ]
  },
  {
   "cell_type": "code",
   "execution_count": 162,
   "metadata": {},
   "outputs": [
    {
     "name": "stdout",
     "output_type": "stream",
     "text": [
      "Train Accuracy: 0.94, Test Accuracy: 0.92\n",
      "------------------------------------\n",
      "Confusion Matrix\n"
     ]
    },
    {
     "data": {
      "image/png": "[encoded data removed]",
      "text/plain": [
       "<Figure size 640x480 with 2 Axes>"
      ]
     },
     "metadata": {},
     "output_type": "display_data"
    },
    {
     "name": "stdout",
     "output_type": "stream",
     "text": [
      "Classification Report\n",
      "------------------------------------\n",
      "              precision    recall  f1-score   support\n",
      "\n",
      "          No       0.90      0.42      0.58       194\n",
      "         Yes       0.93      0.99      0.96      1406\n",
      "\n",
      "    accuracy                           0.92      1600\n",
      "   macro avg       0.91      0.71      0.77      1600\n",
      "weighted avg       0.92      0.92      0.91      1600\n",
      "\n"
     ]
    }
   ],
   "source": [
    "fit_results(pipe_xgb_gridsearch,X_train, X_test, y_train, y_test)"
   ]
  },
  {
   "cell_type": "markdown",
   "metadata": {},
   "source": [
    "The model is performing relatively well. This is the best performing model"
   ]
  },
  {
   "cell_type": "markdown",
   "metadata": {},
   "source": [
    "### Model Evaluation"
   ]
  },
  {
   "cell_type": "markdown",
   "metadata": {},
   "source": [
    "Key Metric to look out for, high precision and recall.\n",
    "\n",
    "----\n"
   ]
  },
  {
   "cell_type": "markdown",
   "metadata": {},
   "source": [
    "**Model 1 : LOGISTIC REGRESSION (BASE MODEL)**\n",
    "\n",
    "- Train Accuracy: 0.88\n",
    "- Test Accuracy: 0.88\n",
    "- Key Observations:\n",
    "\n",
    "\n",
    "    - The precision is about 88%, meaning that when the model predicts (1) \"Yes\", it’s correct 88% of the time and when the model predicts (0)\"No\", it is correct about 67% of the time.\n",
    "\n",
    "    - The recall is very high (99.9%), indicating the model is excellent at identifying all actual \"Yes\" cases. However, when the model is identifying actuall \"No\" cases, it is hardly correct 2% of the time. \n",
    "   \n",
    "    \n",
    "    - The F1-Score is about 94%, which suggests a good balance between precision and recall. On the otherhand, F1 score is about 4% which suggests an aweful imbalance between precision and recall for the \"No\" cases.\n",
    "\n",
    "-----\n",
    "\n",
    "**Model 2 : LOGISTIC REGRESSION (SMOTE)**\n",
    "\n",
    "- Train Accuracy: 0.70\n",
    "\n",
    "- Test Accuracy: 0.68\n",
    "\n",
    "- Key Observations:\n",
    "\n",
    "    - The recall for identifying the \"No\" increaased by abit. otherwise, the model performs almost as the vanila model. \n",
    "    - The accuracy dropped in this model. \n",
    "\n",
    "-----\n",
    "\n",
    "**Model 3 : LOGISTIC REGRESSION (SMOTE + Filter Method)**\n",
    "\n",
    "- Train Accuracy: 0.73\n",
    "\n",
    "- Test Accuracy: 0.72\n",
    "\n",
    "- Key observations:\n",
    "\n",
    "    - The precision and recall are still very low for \"No\" class(0).   \n",
    "    - The Model is still finding it difficult to classify \"No\": customers who do not convert. \n",
    "\n",
    "----\n",
    "\n",
    "**Model 4 : DECISION TREE**\n",
    "\n",
    "- Train Accuracy: 1.00\n",
    "\n",
    "- Test Accuracy: 0.84\n",
    "\n",
    "- Key observation:\n",
    "\n",
    "    - The model has a good fit.   \n",
    "    - An improved recall of 42% was observed.\n",
    "\n",
    "----\n",
    "\n",
    "**Model 5 : DECISION TREE (SMOTE)**\n",
    "\n",
    "- Train Accuracy: 1.00\n",
    "\n",
    "- Test Accuracy: 0.80\n",
    "\n",
    "- Key observations:\n",
    "\n",
    "    - The model seems to overfit. \n",
    "\n",
    "---- \n",
    "\n",
    "**Model 6 : DECISION TREE (SMOTE + Filter Method)**\n",
    "\n",
    "- Train Accuracy: 1.00\n",
    "\n",
    "- Test Accuracy: 0.80\n",
    "\n",
    "- Key observations:\n",
    "\n",
    "    - The model is still overfitting, the model is not performing very well\n",
    "\n",
    "----\n",
    "\n",
    "**Model 7 : XGBOOST**\n",
    "\n",
    "- Train Accuracy: 1.00\n",
    "\n",
    "- Test Accuracy: 0.92\n",
    "\n",
    "- Key observations:\n",
    "\n",
    "    - An improvement in the overall quality of the model. The model seems to generalize well on the data. \n",
    "\n",
    "    - An improved precision and recall for the 0 \"No\" class 78%  and 43% respectively. For the 1 \"Yes\" class 93% precision and 98% recall are very impressive results. \n",
    "\n",
    "    - The model is a significant improvement. \n",
    "    \n",
    "---- \n",
    "\n",
    "**Model 8 : XGBOOST (SMOTE)**\n",
    "\n",
    "- Train Accuracy: 1.00\n",
    "\n",
    "- Test Accuracy: 0.91\n",
    "\n",
    "- Key observations: \n",
    "\n",
    "    - SMOTE had a negative impact on its performance. \n",
    "\n",
    "----\n",
    "\n",
    "**Model 9 : XGBOOST (Filter Methods)**\n",
    "\n",
    "- Train Accuracy: 1.00\n",
    "\n",
    "- Test Accuracy: 0.91\n",
    "\n",
    "- Key observations:\n",
    "\n",
    "    - This model is performing well, no overfitting. \n",
    "\n",
    "----\n",
    "\n",
    "**Model 10 : XGBOOST (Filter Methods + SMOTE)**\n",
    "\n",
    "- Train Accuracy: 1.00\n",
    "\n",
    "- Test Accuracy: 0.89\n",
    "\n",
    "- Key observations:\n",
    "\n",
    "    - Model performance reduced.\n",
    "     \n",
    "    - The model seems to be overfitting.\n",
    "\n",
    "----\n",
    "\n",
    "**Model 11 : XGBOOST (GRID SEARCH CV)**\n",
    "\n",
    "- Train Accuracy: 0.94\n",
    "\n",
    "- Test Accuracy: 0.92\n",
    "\n",
    "- Key observation:\n",
    "\n",
    "    - The precision is about 93%, meaning that when the model predicts (1) \"Yes\", it’s correct 88% of the time and when the model predicts (0)\"No\", it is correct about 90% of the time. \n",
    "\n",
    "    - The recall is very high (99%), indicating the model is excellent at identifying all actual \"Yes\" cases. However, when the model is identifying actuall \"No\" cases, it is correct 42% of the time.\n",
    "\n",
    "    - Overally, this is a significant improvement and the best performing model.\n"
   ]
  },
  {
   "cell_type": "markdown",
   "metadata": {},
   "source": [
    "### Conclusion"
   ]
  },
  {
   "cell_type": "markdown",
   "metadata": {},
   "source": [
    "#### Summary of Results\n",
    "\n",
    "\n",
    "1. **Logistic Regression**: The base model struggled with class imbalance, showing higher precision for the majority class ('No Conversion') but lower recall for the minority class ('Conversion'). Applying SMOTE helped improve recall but at the cost of reducing precision.\n",
    "\n",
    "2. **Decision Tree Classifier**: The initial model overfitted, achieving perfect accuracy on the training set but lower accuracy on the test set. SMOTE improved recall, but the model continued to overfit. Incorporating feature selection did not significantly enhance performance.\n",
    "\n",
    "3. **XGBoost Classifier**: Outperformed other models with better generalization across both classes. Even without SMOTE, the model showed good precision and recall balance providing a robust solution for the business problem."
   ]
  },
  {
   "cell_type": "markdown",
   "metadata": {},
   "source": [
    "**Limitations**  \n",
    "\n",
    "- While XGBoost performed exceptionally well, it is not without limitations:\n",
    "\n",
    "    - Overfitting Risk: As a powerful ensemble method, XGBoost can overfit to the training data if not properly tuned or if the data is noisy. This could lead to reduced performance on unseen data."
   ]
  },
  {
   "cell_type": "markdown",
   "metadata": {},
   "source": [
    "### Recommendations\n",
    "\n",
    "- Actionable Insights and Next Steps\n",
    "\n",
    "    Given the model’s strong performance, i recommend proceeding with deploying the XGBoost model with the following considerations:\n",
    "    - **Regular Monitoring**: Implement continuous monitoring of model performance to detect and address any decline in accuracy, particularly due to data drift or unforeseen biases.\n",
    "    - **Business Integration**: Work closely with stakeholders to integrate model predictions into business processes, ensuring that the model's outputs are used effectively to drive decisions."
   ]
  }
 ],
 "metadata": {
  "kernelspec": {
   "display_name": "learn-env",
   "language": "python",
   "name": "python3"
  },
  "language_info": {
   "codemirror_mode": {
    "name": "ipython",
    "version": 3
   },
   "file_extension": ".py",
   "mimetype": "text/x-python",
   "name": "python",
   "nbconvert_exporter": "python",
   "pygments_lexer": "ipython3",
   "version": "3.12.3"
  }
 },
 "nbformat": 4,
 "nbformat_minor": 2
}
